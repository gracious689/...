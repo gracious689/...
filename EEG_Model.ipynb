{
  "metadata": {
    "kernelspec": {
      "display_name": "Python 3",
      "name": "python3"
    },
    "language_info": {
      "name": "python",
      "version": "3.10.12",
      "mimetype": "text/x-python",
      "codemirror_mode": {
        "name": "ipython",
        "version": 3
      },
      "pygments_lexer": "ipython3",
      "nbconvert_exporter": "python",
      "file_extension": ".py"
    },
    "kaggle": {
      "accelerator": "nvidiaTeslaT4",
      "dataSources": [
        {
          "sourceId": 1985143,
          "sourceType": "datasetVersion",
          "datasetId": 1186683
        },
        {
          "sourceId": 10414420,
          "sourceType": "datasetVersion",
          "datasetId": 6454500
        }
      ],
      "dockerImageVersionId": 30823,
      "isInternetEnabled": true,
      "language": "python",
      "sourceType": "notebook",
      "isGpuEnabled": true
    },
    "colab": {
      "name": "EEG_Model",
      "provenance": []
    }
  },
  "nbformat_minor": 0,
  "nbformat": 4,
  "cells": [
    {
      "source": [
        "# IMPORTANT: RUN THIS CELL IN ORDER TO IMPORT YOUR KAGGLE DATA SOURCES,\n",
        "# THEN FEEL FREE TO DELETE THIS CELL.\n",
        "# NOTE: THIS NOTEBOOK ENVIRONMENT DIFFERS FROM KAGGLE'S PYTHON\n",
        "# ENVIRONMENT SO THERE MAY BE MISSING LIBRARIES USED BY YOUR\n",
        "# NOTEBOOK.\n",
        "import kagglehub\n",
        "samnikolas_eeg_dataset_path = kagglehub.dataset_download('samnikolas/eeg-dataset')\n",
        "\n",
        "print('Data source import complete.')\n"
      ],
      "metadata": {
        "id": "teqS75ABMJZ-",
        "outputId": "878c2b22-6522-4f82-9992-db1c2db89d2a",
        "colab": {
          "base_uri": "https://localhost:8080/"
        }
      },
      "cell_type": "code",
      "outputs": [
        {
          "output_type": "stream",
          "name": "stdout",
          "text": [
            "Downloading from https://www.kaggle.com/api/v1/datasets/download/samnikolas/eeg-dataset?dataset_version_number=1...\n"
          ]
        },
        {
          "output_type": "stream",
          "name": "stderr",
          "text": [
            "100%|██████████| 2.24M/2.24M [00:00<00:00, 124MB/s]"
          ]
        },
        {
          "output_type": "stream",
          "name": "stdout",
          "text": [
            "Extracting files...\n",
            "Data source import complete.\n"
          ]
        },
        {
          "output_type": "stream",
          "name": "stderr",
          "text": [
            "\n"
          ]
        }
      ],
      "execution_count": 45
    },
    {
      "cell_type": "code",
      "source": [
        "# This Python 3 environment comes with many helpful analytics libraries installed\n",
        "# It is defined by the kaggle/python Docker image: https://github.com/kaggle/docker-python\n",
        "# For example, here's several helpful packages to load\n",
        "\n",
        "import numpy as np # linear algebra\n",
        "import pandas as pd # data processing, CSV file I/O (e.g. pd.read_csv)\n",
        "\n",
        "# Input data files are available in the read-only \"../input/\" directory\n",
        "# For example, running this (by clicking run or pressing Shift+Enter) will list all files under the input directory\n",
        "\n",
        "import os\n",
        "for dirname, _, filenames in os.walk('/kaggle/input'):\n",
        "    for filename in filenames:\n",
        "        print(os.path.join(dirname, filename))\n",
        "\n",
        "# You can write up to 20GB to the current directory (/kaggle/working/) that gets preserved as output when you create a version using \"Save & Run All\"\n",
        "# You can also write temporary files to /kaggle/temp/, but they won't be saved outside of the current session"
      ],
      "metadata": {
        "_uuid": "8f2839f25d086af736a60e9eeb907d3b93b6e0e5",
        "_cell_guid": "b1076dfc-b9ad-4769-8c92-a6c4dae69d19",
        "trusted": true,
        "execution": {
          "iopub.status.busy": "2025-01-09T19:52:51.822534Z",
          "iopub.execute_input": "2025-01-09T19:52:51.822866Z",
          "iopub.status.idle": "2025-01-09T19:52:51.835176Z",
          "shell.execute_reply.started": "2025-01-09T19:52:51.822842Z",
          "shell.execute_reply": "2025-01-09T19:52:51.834458Z"
        },
        "id": "p8npzuhjMJaR",
        "outputId": "8b4729ec-46b1-414f-98af-5c944bf37de6",
        "colab": {
          "base_uri": "https://localhost:8080/"
        }
      },
      "outputs": [
        {
          "output_type": "stream",
          "name": "stdout",
          "text": [
            "/kaggle/input/eeg-dataset/features_raw.csv\n"
          ]
        }
      ],
      "execution_count": 46
    },
    {
      "cell_type": "code",
      "source": [
        "import os\n",
        "\n",
        "# Print everything under /kaggle/input\n",
        "for dirname, _, filenames in os.walk('/kaggle/input'):\n",
        "    print(\"Directory:\", dirname)\n",
        "    for filename in filenames:\n",
        "        print(\"  File:\", filename)\n"
      ],
      "metadata": {
        "id": "wWaUn70LWlVD",
        "outputId": "6264abc6-d166-4dd6-ca4a-091133c45f7b",
        "colab": {
          "base_uri": "https://localhost:8080/"
        }
      },
      "execution_count": 47,
      "outputs": [
        {
          "output_type": "stream",
          "name": "stdout",
          "text": [
            "Directory: /kaggle/input\n",
            "Directory: /kaggle/input/eeg-dataset\n",
            "  File: features_raw.csv\n"
          ]
        }
      ]
    },
    {
      "cell_type": "code",
      "source": [
        "%pip install pyod\n",
        "import os\n",
        "import numpy as np\n",
        "from pyod.models import hbos\n",
        "from pyod.utils.data import evaluate_print\n",
        "from sklearn.metrics import confusion_matrix,cohen_kappa_score,f1_score\n",
        "from scipy import signal\n",
        "import matplotlib.pyplot as plt\n",
        "import pickle\n",
        "import pandas as pd"
      ],
      "metadata": {
        "trusted": true,
        "execution": {
          "iopub.status.busy": "2025-01-09T19:52:51.88947Z",
          "iopub.execute_input": "2025-01-09T19:52:51.889685Z",
          "iopub.status.idle": "2025-01-09T19:52:55.018399Z",
          "shell.execute_reply.started": "2025-01-09T19:52:51.889667Z",
          "shell.execute_reply": "2025-01-09T19:52:55.017463Z"
        },
        "id": "mod9BxwLMJaT",
        "outputId": "b9e438d2-84f8-43a5-dcb2-dc62b826b915",
        "colab": {
          "base_uri": "https://localhost:8080/"
        }
      },
      "outputs": [
        {
          "output_type": "stream",
          "name": "stdout",
          "text": [
            "Requirement already satisfied: pyod in /usr/local/lib/python3.11/dist-packages (2.0.5)\n",
            "Requirement already satisfied: joblib in /usr/local/lib/python3.11/dist-packages (from pyod) (1.5.0)\n",
            "Requirement already satisfied: matplotlib in /usr/local/lib/python3.11/dist-packages (from pyod) (3.10.0)\n",
            "Requirement already satisfied: numpy>=1.19 in /usr/local/lib/python3.11/dist-packages (from pyod) (2.0.2)\n",
            "Requirement already satisfied: numba>=0.51 in /usr/local/lib/python3.11/dist-packages (from pyod) (0.60.0)\n",
            "Requirement already satisfied: scipy>=1.5.1 in /usr/local/lib/python3.11/dist-packages (from pyod) (1.15.3)\n",
            "Requirement already satisfied: scikit-learn>=0.22.0 in /usr/local/lib/python3.11/dist-packages (from pyod) (1.6.1)\n",
            "Requirement already satisfied: llvmlite<0.44,>=0.43.0dev0 in /usr/local/lib/python3.11/dist-packages (from numba>=0.51->pyod) (0.43.0)\n",
            "Requirement already satisfied: threadpoolctl>=3.1.0 in /usr/local/lib/python3.11/dist-packages (from scikit-learn>=0.22.0->pyod) (3.6.0)\n",
            "Requirement already satisfied: contourpy>=1.0.1 in /usr/local/lib/python3.11/dist-packages (from matplotlib->pyod) (1.3.2)\n",
            "Requirement already satisfied: cycler>=0.10 in /usr/local/lib/python3.11/dist-packages (from matplotlib->pyod) (0.12.1)\n",
            "Requirement already satisfied: fonttools>=4.22.0 in /usr/local/lib/python3.11/dist-packages (from matplotlib->pyod) (4.58.0)\n",
            "Requirement already satisfied: kiwisolver>=1.3.1 in /usr/local/lib/python3.11/dist-packages (from matplotlib->pyod) (1.4.8)\n",
            "Requirement already satisfied: packaging>=20.0 in /usr/local/lib/python3.11/dist-packages (from matplotlib->pyod) (24.2)\n",
            "Requirement already satisfied: pillow>=8 in /usr/local/lib/python3.11/dist-packages (from matplotlib->pyod) (11.2.1)\n",
            "Requirement already satisfied: pyparsing>=2.3.1 in /usr/local/lib/python3.11/dist-packages (from matplotlib->pyod) (3.2.3)\n",
            "Requirement already satisfied: python-dateutil>=2.7 in /usr/local/lib/python3.11/dist-packages (from matplotlib->pyod) (2.9.0.post0)\n",
            "Requirement already satisfied: six>=1.5 in /usr/local/lib/python3.11/dist-packages (from python-dateutil>=2.7->matplotlib->pyod) (1.17.0)\n"
          ]
        }
      ],
      "execution_count": 41
    },
    {
      "cell_type": "code",
      "source": [
        "channels = 32\n",
        "seconds = 0.5    # Size of each segment we want\n",
        "fs = 256.0         # Dtaset eeg sampling rate\n",
        "data_portion = 1\n",
        "save_model = False"
      ],
      "metadata": {
        "trusted": true,
        "execution": {
          "iopub.status.busy": "2025-01-09T19:52:55.019746Z",
          "iopub.execute_input": "2025-01-09T19:52:55.02001Z",
          "iopub.status.idle": "2025-01-09T19:52:55.024092Z",
          "shell.execute_reply.started": "2025-01-09T19:52:55.019965Z",
          "shell.execute_reply": "2025-01-09T19:52:55.023275Z"
        },
        "id": "LXTvD9AhMJaW"
      },
      "outputs": [],
      "execution_count": 6
    },
    {
      "cell_type": "code",
      "source": [
        "df = pd.read_csv('/kaggle/input/eeg-dataset/features_raw.csv')\n",
        "df.head(2)\n"
      ],
      "metadata": {
        "trusted": true,
        "execution": {
          "iopub.status.busy": "2025-01-09T19:52:55.025761Z",
          "iopub.execute_input": "2025-01-09T19:52:55.025955Z",
          "iopub.status.idle": "2025-01-09T19:52:55.120624Z",
          "shell.execute_reply.started": "2025-01-09T19:52:55.025934Z",
          "shell.execute_reply": "2025-01-09T19:52:55.119928Z"
        },
        "id": "2-3ObCClMJaX",
        "outputId": "66dcdcc3-651e-422b-cfad-2aea96833f1e",
        "colab": {
          "base_uri": "https://localhost:8080/",
          "height": 179
        }
      },
      "outputs": [
        {
          "output_type": "execute_result",
          "data": {
            "text/plain": [
              "        Fp1        AF3        F3        F7       FC5       FC1        C3  \\\n",
              "0  0.057813  -1.335266  4.640480  0.219573  7.473817  2.314842  1.918097   \n",
              "1  1.367408  10.259654  3.345409  7.897852 -2.446051 -1.655035 -6.301423   \n",
              "\n",
              "         T7       CP5       CP1  ...        Cz        C4        T8        CP6  \\\n",
              "0 -9.257533  9.089943 -7.104519  ... -2.241480  1.415335  2.406646  12.864059   \n",
              "1 -7.290317 -3.546453 -5.705187  ... -2.568397 -5.651418 -0.096730  -4.930759   \n",
              "\n",
              "        CP2        P4        P8       PO4        O2  Unnamed: 32  \n",
              "0  4.021099 -2.828598 -2.588735  2.637905 -5.226618          NaN  \n",
              "1 -1.722504 -6.111309  0.094893 -3.521353  1.887093          NaN  \n",
              "\n",
              "[2 rows x 33 columns]"
            ],
            "text/html": [
              "\n",
              "  <div id=\"df-9f8e57fb-f5bb-49e3-a555-7f022a2f5048\" class=\"colab-df-container\">\n",
              "    <div>\n",
              "<style scoped>\n",
              "    .dataframe tbody tr th:only-of-type {\n",
              "        vertical-align: middle;\n",
              "    }\n",
              "\n",
              "    .dataframe tbody tr th {\n",
              "        vertical-align: top;\n",
              "    }\n",
              "\n",
              "    .dataframe thead th {\n",
              "        text-align: right;\n",
              "    }\n",
              "</style>\n",
              "<table border=\"1\" class=\"dataframe\">\n",
              "  <thead>\n",
              "    <tr style=\"text-align: right;\">\n",
              "      <th></th>\n",
              "      <th>Fp1</th>\n",
              "      <th>AF3</th>\n",
              "      <th>F3</th>\n",
              "      <th>F7</th>\n",
              "      <th>FC5</th>\n",
              "      <th>FC1</th>\n",
              "      <th>C3</th>\n",
              "      <th>T7</th>\n",
              "      <th>CP5</th>\n",
              "      <th>CP1</th>\n",
              "      <th>...</th>\n",
              "      <th>Cz</th>\n",
              "      <th>C4</th>\n",
              "      <th>T8</th>\n",
              "      <th>CP6</th>\n",
              "      <th>CP2</th>\n",
              "      <th>P4</th>\n",
              "      <th>P8</th>\n",
              "      <th>PO4</th>\n",
              "      <th>O2</th>\n",
              "      <th>Unnamed: 32</th>\n",
              "    </tr>\n",
              "  </thead>\n",
              "  <tbody>\n",
              "    <tr>\n",
              "      <th>0</th>\n",
              "      <td>0.057813</td>\n",
              "      <td>-1.335266</td>\n",
              "      <td>4.640480</td>\n",
              "      <td>0.219573</td>\n",
              "      <td>7.473817</td>\n",
              "      <td>2.314842</td>\n",
              "      <td>1.918097</td>\n",
              "      <td>-9.257533</td>\n",
              "      <td>9.089943</td>\n",
              "      <td>-7.104519</td>\n",
              "      <td>...</td>\n",
              "      <td>-2.241480</td>\n",
              "      <td>1.415335</td>\n",
              "      <td>2.406646</td>\n",
              "      <td>12.864059</td>\n",
              "      <td>4.021099</td>\n",
              "      <td>-2.828598</td>\n",
              "      <td>-2.588735</td>\n",
              "      <td>2.637905</td>\n",
              "      <td>-5.226618</td>\n",
              "      <td>NaN</td>\n",
              "    </tr>\n",
              "    <tr>\n",
              "      <th>1</th>\n",
              "      <td>1.367408</td>\n",
              "      <td>10.259654</td>\n",
              "      <td>3.345409</td>\n",
              "      <td>7.897852</td>\n",
              "      <td>-2.446051</td>\n",
              "      <td>-1.655035</td>\n",
              "      <td>-6.301423</td>\n",
              "      <td>-7.290317</td>\n",
              "      <td>-3.546453</td>\n",
              "      <td>-5.705187</td>\n",
              "      <td>...</td>\n",
              "      <td>-2.568397</td>\n",
              "      <td>-5.651418</td>\n",
              "      <td>-0.096730</td>\n",
              "      <td>-4.930759</td>\n",
              "      <td>-1.722504</td>\n",
              "      <td>-6.111309</td>\n",
              "      <td>0.094893</td>\n",
              "      <td>-3.521353</td>\n",
              "      <td>1.887093</td>\n",
              "      <td>NaN</td>\n",
              "    </tr>\n",
              "  </tbody>\n",
              "</table>\n",
              "<p>2 rows × 33 columns</p>\n",
              "</div>\n",
              "    <div class=\"colab-df-buttons\">\n",
              "\n",
              "  <div class=\"colab-df-container\">\n",
              "    <button class=\"colab-df-convert\" onclick=\"convertToInteractive('df-9f8e57fb-f5bb-49e3-a555-7f022a2f5048')\"\n",
              "            title=\"Convert this dataframe to an interactive table.\"\n",
              "            style=\"display:none;\">\n",
              "\n",
              "  <svg xmlns=\"http://www.w3.org/2000/svg\" height=\"24px\" viewBox=\"0 -960 960 960\">\n",
              "    <path d=\"M120-120v-720h720v720H120Zm60-500h600v-160H180v160Zm220 220h160v-160H400v160Zm0 220h160v-160H400v160ZM180-400h160v-160H180v160Zm440 0h160v-160H620v160ZM180-180h160v-160H180v160Zm440 0h160v-160H620v160Z\"/>\n",
              "  </svg>\n",
              "    </button>\n",
              "\n",
              "  <style>\n",
              "    .colab-df-container {\n",
              "      display:flex;\n",
              "      gap: 12px;\n",
              "    }\n",
              "\n",
              "    .colab-df-convert {\n",
              "      background-color: #E8F0FE;\n",
              "      border: none;\n",
              "      border-radius: 50%;\n",
              "      cursor: pointer;\n",
              "      display: none;\n",
              "      fill: #1967D2;\n",
              "      height: 32px;\n",
              "      padding: 0 0 0 0;\n",
              "      width: 32px;\n",
              "    }\n",
              "\n",
              "    .colab-df-convert:hover {\n",
              "      background-color: #E2EBFA;\n",
              "      box-shadow: 0px 1px 2px rgba(60, 64, 67, 0.3), 0px 1px 3px 1px rgba(60, 64, 67, 0.15);\n",
              "      fill: #174EA6;\n",
              "    }\n",
              "\n",
              "    .colab-df-buttons div {\n",
              "      margin-bottom: 4px;\n",
              "    }\n",
              "\n",
              "    [theme=dark] .colab-df-convert {\n",
              "      background-color: #3B4455;\n",
              "      fill: #D2E3FC;\n",
              "    }\n",
              "\n",
              "    [theme=dark] .colab-df-convert:hover {\n",
              "      background-color: #434B5C;\n",
              "      box-shadow: 0px 1px 3px 1px rgba(0, 0, 0, 0.15);\n",
              "      filter: drop-shadow(0px 1px 2px rgba(0, 0, 0, 0.3));\n",
              "      fill: #FFFFFF;\n",
              "    }\n",
              "  </style>\n",
              "\n",
              "    <script>\n",
              "      const buttonEl =\n",
              "        document.querySelector('#df-9f8e57fb-f5bb-49e3-a555-7f022a2f5048 button.colab-df-convert');\n",
              "      buttonEl.style.display =\n",
              "        google.colab.kernel.accessAllowed ? 'block' : 'none';\n",
              "\n",
              "      async function convertToInteractive(key) {\n",
              "        const element = document.querySelector('#df-9f8e57fb-f5bb-49e3-a555-7f022a2f5048');\n",
              "        const dataTable =\n",
              "          await google.colab.kernel.invokeFunction('convertToInteractive',\n",
              "                                                    [key], {});\n",
              "        if (!dataTable) return;\n",
              "\n",
              "        const docLinkHtml = 'Like what you see? Visit the ' +\n",
              "          '<a target=\"_blank\" href=https://colab.research.google.com/notebooks/data_table.ipynb>data table notebook</a>'\n",
              "          + ' to learn more about interactive tables.';\n",
              "        element.innerHTML = '';\n",
              "        dataTable['output_type'] = 'display_data';\n",
              "        await google.colab.output.renderOutput(dataTable, element);\n",
              "        const docLink = document.createElement('div');\n",
              "        docLink.innerHTML = docLinkHtml;\n",
              "        element.appendChild(docLink);\n",
              "      }\n",
              "    </script>\n",
              "  </div>\n",
              "\n",
              "\n",
              "    <div id=\"df-5b22224a-8ebd-432b-bdbe-d5b08c52e047\">\n",
              "      <button class=\"colab-df-quickchart\" onclick=\"quickchart('df-5b22224a-8ebd-432b-bdbe-d5b08c52e047')\"\n",
              "                title=\"Suggest charts\"\n",
              "                style=\"display:none;\">\n",
              "\n",
              "<svg xmlns=\"http://www.w3.org/2000/svg\" height=\"24px\"viewBox=\"0 0 24 24\"\n",
              "     width=\"24px\">\n",
              "    <g>\n",
              "        <path d=\"M19 3H5c-1.1 0-2 .9-2 2v14c0 1.1.9 2 2 2h14c1.1 0 2-.9 2-2V5c0-1.1-.9-2-2-2zM9 17H7v-7h2v7zm4 0h-2V7h2v10zm4 0h-2v-4h2v4z\"/>\n",
              "    </g>\n",
              "</svg>\n",
              "      </button>\n",
              "\n",
              "<style>\n",
              "  .colab-df-quickchart {\n",
              "      --bg-color: #E8F0FE;\n",
              "      --fill-color: #1967D2;\n",
              "      --hover-bg-color: #E2EBFA;\n",
              "      --hover-fill-color: #174EA6;\n",
              "      --disabled-fill-color: #AAA;\n",
              "      --disabled-bg-color: #DDD;\n",
              "  }\n",
              "\n",
              "  [theme=dark] .colab-df-quickchart {\n",
              "      --bg-color: #3B4455;\n",
              "      --fill-color: #D2E3FC;\n",
              "      --hover-bg-color: #434B5C;\n",
              "      --hover-fill-color: #FFFFFF;\n",
              "      --disabled-bg-color: #3B4455;\n",
              "      --disabled-fill-color: #666;\n",
              "  }\n",
              "\n",
              "  .colab-df-quickchart {\n",
              "    background-color: var(--bg-color);\n",
              "    border: none;\n",
              "    border-radius: 50%;\n",
              "    cursor: pointer;\n",
              "    display: none;\n",
              "    fill: var(--fill-color);\n",
              "    height: 32px;\n",
              "    padding: 0;\n",
              "    width: 32px;\n",
              "  }\n",
              "\n",
              "  .colab-df-quickchart:hover {\n",
              "    background-color: var(--hover-bg-color);\n",
              "    box-shadow: 0 1px 2px rgba(60, 64, 67, 0.3), 0 1px 3px 1px rgba(60, 64, 67, 0.15);\n",
              "    fill: var(--button-hover-fill-color);\n",
              "  }\n",
              "\n",
              "  .colab-df-quickchart-complete:disabled,\n",
              "  .colab-df-quickchart-complete:disabled:hover {\n",
              "    background-color: var(--disabled-bg-color);\n",
              "    fill: var(--disabled-fill-color);\n",
              "    box-shadow: none;\n",
              "  }\n",
              "\n",
              "  .colab-df-spinner {\n",
              "    border: 2px solid var(--fill-color);\n",
              "    border-color: transparent;\n",
              "    border-bottom-color: var(--fill-color);\n",
              "    animation:\n",
              "      spin 1s steps(1) infinite;\n",
              "  }\n",
              "\n",
              "  @keyframes spin {\n",
              "    0% {\n",
              "      border-color: transparent;\n",
              "      border-bottom-color: var(--fill-color);\n",
              "      border-left-color: var(--fill-color);\n",
              "    }\n",
              "    20% {\n",
              "      border-color: transparent;\n",
              "      border-left-color: var(--fill-color);\n",
              "      border-top-color: var(--fill-color);\n",
              "    }\n",
              "    30% {\n",
              "      border-color: transparent;\n",
              "      border-left-color: var(--fill-color);\n",
              "      border-top-color: var(--fill-color);\n",
              "      border-right-color: var(--fill-color);\n",
              "    }\n",
              "    40% {\n",
              "      border-color: transparent;\n",
              "      border-right-color: var(--fill-color);\n",
              "      border-top-color: var(--fill-color);\n",
              "    }\n",
              "    60% {\n",
              "      border-color: transparent;\n",
              "      border-right-color: var(--fill-color);\n",
              "    }\n",
              "    80% {\n",
              "      border-color: transparent;\n",
              "      border-right-color: var(--fill-color);\n",
              "      border-bottom-color: var(--fill-color);\n",
              "    }\n",
              "    90% {\n",
              "      border-color: transparent;\n",
              "      border-bottom-color: var(--fill-color);\n",
              "    }\n",
              "  }\n",
              "</style>\n",
              "\n",
              "      <script>\n",
              "        async function quickchart(key) {\n",
              "          const quickchartButtonEl =\n",
              "            document.querySelector('#' + key + ' button');\n",
              "          quickchartButtonEl.disabled = true;  // To prevent multiple clicks.\n",
              "          quickchartButtonEl.classList.add('colab-df-spinner');\n",
              "          try {\n",
              "            const charts = await google.colab.kernel.invokeFunction(\n",
              "                'suggestCharts', [key], {});\n",
              "          } catch (error) {\n",
              "            console.error('Error during call to suggestCharts:', error);\n",
              "          }\n",
              "          quickchartButtonEl.classList.remove('colab-df-spinner');\n",
              "          quickchartButtonEl.classList.add('colab-df-quickchart-complete');\n",
              "        }\n",
              "        (() => {\n",
              "          let quickchartButtonEl =\n",
              "            document.querySelector('#df-5b22224a-8ebd-432b-bdbe-d5b08c52e047 button');\n",
              "          quickchartButtonEl.style.display =\n",
              "            google.colab.kernel.accessAllowed ? 'block' : 'none';\n",
              "        })();\n",
              "      </script>\n",
              "    </div>\n",
              "\n",
              "    </div>\n",
              "  </div>\n"
            ],
            "application/vnd.google.colaboratory.intrinsic+json": {
              "type": "dataframe",
              "variable_name": "df"
            }
          },
          "metadata": {},
          "execution_count": 34
        }
      ],
      "execution_count": 34
    },
    {
      "cell_type": "code",
      "source": [
        "df.shape"
      ],
      "metadata": {
        "trusted": true,
        "execution": {
          "iopub.status.busy": "2025-01-09T19:52:55.121813Z",
          "iopub.execute_input": "2025-01-09T19:52:55.122061Z",
          "iopub.status.idle": "2025-01-09T19:52:55.126759Z",
          "shell.execute_reply.started": "2025-01-09T19:52:55.122039Z",
          "shell.execute_reply": "2025-01-09T19:52:55.125927Z"
        },
        "id": "um7LMTbAMJaY"
      },
      "outputs": [],
      "execution_count": null
    },
    {
      "cell_type": "code",
      "source": [
        "plt.plot(df['Fp1'])\n"
      ],
      "metadata": {
        "trusted": true,
        "execution": {
          "iopub.status.busy": "2025-01-09T19:52:55.12767Z",
          "iopub.execute_input": "2025-01-09T19:52:55.127998Z",
          "iopub.status.idle": "2025-01-09T19:52:55.569752Z",
          "shell.execute_reply.started": "2025-01-09T19:52:55.127945Z",
          "shell.execute_reply": "2025-01-09T19:52:55.568738Z"
        },
        "id": "Fcl0D050MJac"
      },
      "outputs": [],
      "execution_count": null
    },
    {
      "cell_type": "code",
      "source": [
        "class EEGDataset2:\n",
        "    def __init__(self, train_csv, seconds=0.500, fs=256, data_portion=1, normalize=True, isolated_channels=False):\n",
        "        assert data_portion > 0.0 and data_portion <= 1, 'data_portion should be > 0 and <= 1'\n",
        "\n",
        "        self.isolated_channels = isolated_channels\n",
        "        self.normalize = normalize\n",
        "        self.train_csv = train_csv\n",
        "        self.seconds = seconds\n",
        "        self.fs = fs\n",
        "        self.data_portion = data_portion\n",
        "\n",
        "    def get_data(self):\n",
        "        df = pd.read_csv(self.train_csv)\n",
        "        array_size = int(self.seconds * self.fs)\n",
        "\n",
        "\n",
        "        if self.normalize:\n",
        "            df = (df - df.mean()) / df.std()\n",
        "\n",
        "        if self.isolated_channels:\n",
        "            channels = []\n",
        "            for channel in df.columns[0:32]:\n",
        "                isolated_channel = []\n",
        "                for i in range(int(len(df) / array_size)):\n",
        "                    isolated_channel.append(df[channel][i*array_size:(i+1)*array_size].to_numpy())\n",
        "                channels.append(np.array(isolated_channel))\n",
        "            return np.array\n",
        "        dataset = []\n",
        "\n",
        "        for channel in df.columns[0:32]:\n",
        "            for i in range(int(len(df) / array_size)):\n",
        "                dataset.append(df[channel][i*array_size:(i+1)*array_size].to_numpy())\n",
        "\n",
        "        return np.array(dataset)\n",
        ""
      ],
      "metadata": {
        "trusted": true,
        "execution": {
          "iopub.status.busy": "2025-01-09T19:52:55.570736Z",
          "iopub.execute_input": "2025-01-09T19:52:55.571097Z",
          "iopub.status.idle": "2025-01-09T19:52:55.578028Z",
          "shell.execute_reply.started": "2025-01-09T19:52:55.571064Z",
          "shell.execute_reply": "2025-01-09T19:52:55.577223Z"
        },
        "id": "_zLcEVKAMJa0"
      },
      "outputs": [],
      "execution_count": 33
    },
    {
      "cell_type": "code",
      "source": [
        "train_csv = '/kaggle/input/eeg-dataset/features_raw.csv'\n",
        "eegDataset = EEGDataset2(train_csv, 0.500, 256, 1, normalize=True)\n",
        "\n",
        "train_dataset = eegDataset.get_data()"
      ],
      "metadata": {
        "trusted": true,
        "execution": {
          "iopub.status.busy": "2025-01-09T19:52:55.578836Z",
          "iopub.execute_input": "2025-01-09T19:52:55.579134Z",
          "iopub.status.idle": "2025-01-09T19:52:55.702877Z",
          "shell.execute_reply.started": "2025-01-09T19:52:55.579105Z",
          "shell.execute_reply": "2025-01-09T19:52:55.702243Z"
        },
        "id": "Ci56dGb7MJa3"
      },
      "outputs": [],
      "execution_count": 15
    },
    {
      "cell_type": "code",
      "source": [
        "train_dataset.shape"
      ],
      "metadata": {
        "trusted": true,
        "execution": {
          "iopub.status.busy": "2025-01-09T19:52:55.705541Z",
          "iopub.execute_input": "2025-01-09T19:52:55.705774Z",
          "iopub.status.idle": "2025-01-09T19:52:55.710806Z",
          "shell.execute_reply.started": "2025-01-09T19:52:55.705753Z",
          "shell.execute_reply": "2025-01-09T19:52:55.70987Z"
        },
        "id": "RLwekwFPMJa4",
        "outputId": "57730032-77cb-48eb-a781-918ba57f04af",
        "colab": {
          "base_uri": "https://localhost:8080/"
        }
      },
      "outputs": [
        {
          "output_type": "execute_result",
          "data": {
            "text/plain": [
              "(2016, 128)"
            ]
          },
          "metadata": {},
          "execution_count": 18
        }
      ],
      "execution_count": 18
    },
    {
      "cell_type": "code",
      "source": [
        "train_dataset[0]"
      ],
      "metadata": {
        "trusted": true,
        "execution": {
          "iopub.status.busy": "2025-01-09T19:52:55.712633Z",
          "iopub.execute_input": "2025-01-09T19:52:55.712834Z",
          "iopub.status.idle": "2025-01-09T19:52:55.723926Z",
          "shell.execute_reply.started": "2025-01-09T19:52:55.712816Z",
          "shell.execute_reply": "2025-01-09T19:52:55.723259Z"
        },
        "id": "dglOC_SBMJa5"
      },
      "outputs": [],
      "execution_count": null
    },
    {
      "cell_type": "code",
      "source": [
        "clf = hbos.HBOS(n_bins=17, alpha=0.07, tol=0.5,contamination=.15)\n",
        "clf.fit(train_dataset)\n",
        "\n",
        "print(\"=\"*20)\n",
        "print(\"TRAINING THE MODEL\")"
      ],
      "metadata": {
        "trusted": true,
        "execution": {
          "iopub.status.busy": "2025-01-09T19:52:55.724656Z",
          "iopub.execute_input": "2025-01-09T19:52:55.724913Z",
          "iopub.status.idle": "2025-01-09T19:52:55.778353Z",
          "shell.execute_reply.started": "2025-01-09T19:52:55.724893Z",
          "shell.execute_reply": "2025-01-09T19:52:55.777501Z"
        },
        "id": "TeLNZ3K7MJa6",
        "outputId": "72372841-8e39-480b-ecee-d8c372ad03e9",
        "colab": {
          "base_uri": "https://localhost:8080/"
        }
      },
      "outputs": [
        {
          "output_type": "stream",
          "name": "stdout",
          "text": [
            "====================\n",
            "TRAINING THE MODEL\n"
          ]
        }
      ],
      "execution_count": 17
    },
    {
      "cell_type": "code",
      "source": [
        "pred = clf.predict(train_dataset)\n",
        "\n",
        "for i in range(len(pred)):\n",
        "    plt.rcParams[\"figure.figsize\"] = (20,8)\n",
        "\n",
        "    if pred[i] == 1: plt.plot(range(128*i,128*(i+1)), train_dataset[i], color='red')\n",
        "    else: plt.plot(range(128*i,128*(i+1)), train_dataset[i], color='b')"
      ],
      "metadata": {
        "trusted": true,
        "execution": {
          "iopub.status.busy": "2025-01-09T19:52:55.779033Z",
          "iopub.execute_input": "2025-01-09T19:52:55.779258Z",
          "iopub.status.idle": "2025-01-09T19:52:58.347369Z",
          "shell.execute_reply.started": "2025-01-09T19:52:55.779221Z",
          "shell.execute_reply": "2025-01-09T19:52:58.34657Z"
        },
        "id": "dcdLNftkMJa-",
        "outputId": "41c3fcda-8448-4573-9956-c3d537299d08",
        "colab": {
          "base_uri": "https://localhost:8080/",
          "height": 522
        }
      },
      "outputs": [
        {
          "output_type": "display_data",
          "data": {
            "text/plain": [
              "<Figure size 2000x800 with 1 Axes>"
            ],
            "image/png": "[encoded data removed]"
          },
          "metadata": {}
        }
      ],
      "execution_count": 19
    },
    {
      "cell_type": "code",
      "source": [
        "import numpy as np # linear algebra\n",
        "import pandas as pd\n",
        "import seaborn as sns\n",
        "import matplotlib.pyplot as plt\n",
        "from sklearn.preprocessing import StandardScaler\n",
        "import tensorflow\n",
        "from sklearn.model_selection import train_test_split\n",
        "from tensorflow.keras.utils import to_categorical\n",
        "import tensorflow as tf\n",
        "from tensorflow.keras import Sequential\n",
        "from tensorflow.keras.optimizers import SGD\n",
        "from tensorflow.keras.layers import Dense, Dropout\n",
        "from tensorflow.keras.layers import Embedding\n",
        "from tensorflow.keras.layers import LSTM\n",
        "tf.keras.backend.clear_session()\n",
        "from sklearn.metrics import confusion_matrix,classification_report\n",
        "\n",
        "import os\n",
        "for dirname, _, filenames in os.walk('/kaggle/input'):\n",
        "    for filename in filenames:\n",
        "        print(os.path.join(dirname, filename))\n"
      ],
      "metadata": {
        "trusted": true,
        "execution": {
          "iopub.status.busy": "2025-01-09T19:52:58.348097Z",
          "iopub.execute_input": "2025-01-09T19:52:58.348323Z",
          "iopub.status.idle": "2025-01-09T19:52:58.705022Z",
          "shell.execute_reply.started": "2025-01-09T19:52:58.348304Z",
          "shell.execute_reply": "2025-01-09T19:52:58.704208Z"
        },
        "id": "3-jj5AohMJa_",
        "outputId": "67c257cb-e898-40af-a5f5-0af8d9dfd9dd",
        "colab": {
          "base_uri": "https://localhost:8080/"
        }
      },
      "outputs": [
        {
          "output_type": "stream",
          "name": "stdout",
          "text": [
            "/kaggle/input/eeg-dataset/features_raw.csv\n"
          ]
        }
      ],
      "execution_count": 36
    },
    {
      "cell_type": "code",
      "source": [
        "data = pd.read_csv('/kaggle/input/emotions-detection/emotions.csv')"
      ],
      "metadata": {
        "trusted": true,
        "execution": {
          "iopub.status.busy": "2025-01-09T19:52:58.70587Z",
          "iopub.execute_input": "2025-01-09T19:52:58.706174Z",
          "iopub.status.idle": "2025-01-09T19:52:59.551108Z",
          "shell.execute_reply.started": "2025-01-09T19:52:58.706152Z",
          "shell.execute_reply": "2025-01-09T19:52:59.550411Z"
        },
        "id": "Nbpxbk1PMJbB",
        "outputId": "ea545221-1105-4f5d-b827-41cab62bb15c",
        "colab": {
          "base_uri": "https://localhost:8080/",
          "height": 287
        }
      },
      "outputs": [
        {
          "output_type": "error",
          "ename": "FileNotFoundError",
          "evalue": "[Errno 2] No such file or directory: '/kaggle/input/emotions-detection/emotions.csv'",
          "traceback": [
            "\u001b[0;31m---------------------------------------------------------------------------\u001b[0m",
            "\u001b[0;31mFileNotFoundError\u001b[0m                         Traceback (most recent call last)",
            "\u001b[0;32m<ipython-input-32-fc2affd11dd4>\u001b[0m in \u001b[0;36m<cell line: 0>\u001b[0;34m()\u001b[0m\n\u001b[0;32m----> 1\u001b[0;31m \u001b[0mdata\u001b[0m \u001b[0;34m=\u001b[0m \u001b[0mpd\u001b[0m\u001b[0;34m.\u001b[0m\u001b[0mread_csv\u001b[0m\u001b[0;34m(\u001b[0m\u001b[0;34m'/kaggle/input/emotions-detection/emotions.csv'\u001b[0m\u001b[0;34m)\u001b[0m\u001b[0;34m\u001b[0m\u001b[0;34m\u001b[0m\u001b[0m\n\u001b[0m",
            "\u001b[0;32m/usr/local/lib/python3.11/dist-packages/pandas/io/parsers/readers.py\u001b[0m in \u001b[0;36mread_csv\u001b[0;34m(filepath_or_buffer, sep, delimiter, header, names, index_col, usecols, dtype, engine, converters, true_values, false_values, skipinitialspace, skiprows, skipfooter, nrows, na_values, keep_default_na, na_filter, verbose, skip_blank_lines, parse_dates, infer_datetime_format, keep_date_col, date_parser, date_format, dayfirst, cache_dates, iterator, chunksize, compression, thousands, decimal, lineterminator, quotechar, quoting, doublequote, escapechar, comment, encoding, encoding_errors, dialect, on_bad_lines, delim_whitespace, low_memory, memory_map, float_precision, storage_options, dtype_backend)\u001b[0m\n\u001b[1;32m   1024\u001b[0m     \u001b[0mkwds\u001b[0m\u001b[0;34m.\u001b[0m\u001b[0mupdate\u001b[0m\u001b[0;34m(\u001b[0m\u001b[0mkwds_defaults\u001b[0m\u001b[0;34m)\u001b[0m\u001b[0;34m\u001b[0m\u001b[0;34m\u001b[0m\u001b[0m\n\u001b[1;32m   1025\u001b[0m \u001b[0;34m\u001b[0m\u001b[0m\n\u001b[0;32m-> 1026\u001b[0;31m     \u001b[0;32mreturn\u001b[0m \u001b[0m_read\u001b[0m\u001b[0;34m(\u001b[0m\u001b[0mfilepath_or_buffer\u001b[0m\u001b[0;34m,\u001b[0m \u001b[0mkwds\u001b[0m\u001b[0;34m)\u001b[0m\u001b[0;34m\u001b[0m\u001b[0;34m\u001b[0m\u001b[0m\n\u001b[0m\u001b[1;32m   1027\u001b[0m \u001b[0;34m\u001b[0m\u001b[0m\n\u001b[1;32m   1028\u001b[0m \u001b[0;34m\u001b[0m\u001b[0m\n",
            "\u001b[0;32m/usr/local/lib/python3.11/dist-packages/pandas/io/parsers/readers.py\u001b[0m in \u001b[0;36m_read\u001b[0;34m(filepath_or_buffer, kwds)\u001b[0m\n\u001b[1;32m    618\u001b[0m \u001b[0;34m\u001b[0m\u001b[0m\n\u001b[1;32m    619\u001b[0m     \u001b[0;31m# Create the parser.\u001b[0m\u001b[0;34m\u001b[0m\u001b[0;34m\u001b[0m\u001b[0m\n\u001b[0;32m--> 620\u001b[0;31m     \u001b[0mparser\u001b[0m \u001b[0;34m=\u001b[0m \u001b[0mTextFileReader\u001b[0m\u001b[0;34m(\u001b[0m\u001b[0mfilepath_or_buffer\u001b[0m\u001b[0;34m,\u001b[0m \u001b[0;34m**\u001b[0m\u001b[0mkwds\u001b[0m\u001b[0;34m)\u001b[0m\u001b[0;34m\u001b[0m\u001b[0;34m\u001b[0m\u001b[0m\n\u001b[0m\u001b[1;32m    621\u001b[0m \u001b[0;34m\u001b[0m\u001b[0m\n\u001b[1;32m    622\u001b[0m     \u001b[0;32mif\u001b[0m \u001b[0mchunksize\u001b[0m \u001b[0;32mor\u001b[0m \u001b[0miterator\u001b[0m\u001b[0;34m:\u001b[0m\u001b[0;34m\u001b[0m\u001b[0;34m\u001b[0m\u001b[0m\n",
            "\u001b[0;32m/usr/local/lib/python3.11/dist-packages/pandas/io/parsers/readers.py\u001b[0m in \u001b[0;36m__init__\u001b[0;34m(self, f, engine, **kwds)\u001b[0m\n\u001b[1;32m   1618\u001b[0m \u001b[0;34m\u001b[0m\u001b[0m\n\u001b[1;32m   1619\u001b[0m         \u001b[0mself\u001b[0m\u001b[0;34m.\u001b[0m\u001b[0mhandles\u001b[0m\u001b[0;34m:\u001b[0m \u001b[0mIOHandles\u001b[0m \u001b[0;34m|\u001b[0m \u001b[0;32mNone\u001b[0m \u001b[0;34m=\u001b[0m \u001b[0;32mNone\u001b[0m\u001b[0;34m\u001b[0m\u001b[0;34m\u001b[0m\u001b[0m\n\u001b[0;32m-> 1620\u001b[0;31m         \u001b[0mself\u001b[0m\u001b[0;34m.\u001b[0m\u001b[0m_engine\u001b[0m \u001b[0;34m=\u001b[0m \u001b[0mself\u001b[0m\u001b[0;34m.\u001b[0m\u001b[0m_make_engine\u001b[0m\u001b[0;34m(\u001b[0m\u001b[0mf\u001b[0m\u001b[0;34m,\u001b[0m \u001b[0mself\u001b[0m\u001b[0;34m.\u001b[0m\u001b[0mengine\u001b[0m\u001b[0;34m)\u001b[0m\u001b[0;34m\u001b[0m\u001b[0;34m\u001b[0m\u001b[0m\n\u001b[0m\u001b[1;32m   1621\u001b[0m \u001b[0;34m\u001b[0m\u001b[0m\n\u001b[1;32m   1622\u001b[0m     \u001b[0;32mdef\u001b[0m \u001b[0mclose\u001b[0m\u001b[0;34m(\u001b[0m\u001b[0mself\u001b[0m\u001b[0;34m)\u001b[0m \u001b[0;34m->\u001b[0m \u001b[0;32mNone\u001b[0m\u001b[0;34m:\u001b[0m\u001b[0;34m\u001b[0m\u001b[0;34m\u001b[0m\u001b[0m\n",
            "\u001b[0;32m/usr/local/lib/python3.11/dist-packages/pandas/io/parsers/readers.py\u001b[0m in \u001b[0;36m_make_engine\u001b[0;34m(self, f, engine)\u001b[0m\n\u001b[1;32m   1878\u001b[0m                 \u001b[0;32mif\u001b[0m \u001b[0;34m\"b\"\u001b[0m \u001b[0;32mnot\u001b[0m \u001b[0;32min\u001b[0m \u001b[0mmode\u001b[0m\u001b[0;34m:\u001b[0m\u001b[0;34m\u001b[0m\u001b[0;34m\u001b[0m\u001b[0m\n\u001b[1;32m   1879\u001b[0m                     \u001b[0mmode\u001b[0m \u001b[0;34m+=\u001b[0m \u001b[0;34m\"b\"\u001b[0m\u001b[0;34m\u001b[0m\u001b[0;34m\u001b[0m\u001b[0m\n\u001b[0;32m-> 1880\u001b[0;31m             self.handles = get_handle(\n\u001b[0m\u001b[1;32m   1881\u001b[0m                 \u001b[0mf\u001b[0m\u001b[0;34m,\u001b[0m\u001b[0;34m\u001b[0m\u001b[0;34m\u001b[0m\u001b[0m\n\u001b[1;32m   1882\u001b[0m                 \u001b[0mmode\u001b[0m\u001b[0;34m,\u001b[0m\u001b[0;34m\u001b[0m\u001b[0;34m\u001b[0m\u001b[0m\n",
            "\u001b[0;32m/usr/local/lib/python3.11/dist-packages/pandas/io/common.py\u001b[0m in \u001b[0;36mget_handle\u001b[0;34m(path_or_buf, mode, encoding, compression, memory_map, is_text, errors, storage_options)\u001b[0m\n\u001b[1;32m    871\u001b[0m         \u001b[0;32mif\u001b[0m \u001b[0mioargs\u001b[0m\u001b[0;34m.\u001b[0m\u001b[0mencoding\u001b[0m \u001b[0;32mand\u001b[0m \u001b[0;34m\"b\"\u001b[0m \u001b[0;32mnot\u001b[0m \u001b[0;32min\u001b[0m \u001b[0mioargs\u001b[0m\u001b[0;34m.\u001b[0m\u001b[0mmode\u001b[0m\u001b[0;34m:\u001b[0m\u001b[0;34m\u001b[0m\u001b[0;34m\u001b[0m\u001b[0m\n\u001b[1;32m    872\u001b[0m             \u001b[0;31m# Encoding\u001b[0m\u001b[0;34m\u001b[0m\u001b[0;34m\u001b[0m\u001b[0m\n\u001b[0;32m--> 873\u001b[0;31m             handle = open(\n\u001b[0m\u001b[1;32m    874\u001b[0m                 \u001b[0mhandle\u001b[0m\u001b[0;34m,\u001b[0m\u001b[0;34m\u001b[0m\u001b[0;34m\u001b[0m\u001b[0m\n\u001b[1;32m    875\u001b[0m                 \u001b[0mioargs\u001b[0m\u001b[0;34m.\u001b[0m\u001b[0mmode\u001b[0m\u001b[0;34m,\u001b[0m\u001b[0;34m\u001b[0m\u001b[0;34m\u001b[0m\u001b[0m\n",
            "\u001b[0;31mFileNotFoundError\u001b[0m: [Errno 2] No such file or directory: '/kaggle/input/emotions-detection/emotions.csv'"
          ]
        }
      ],
      "execution_count": 32
    },
    {
      "cell_type": "markdown",
      "source": [],
      "metadata": {
        "id": "_M_4LfP_TNeB"
      }
    },
    {
      "cell_type": "code",
      "source": [
        "data.head()"
      ],
      "metadata": {
        "trusted": true,
        "execution": {
          "iopub.status.busy": "2025-01-09T19:52:59.552248Z",
          "iopub.execute_input": "2025-01-09T19:52:59.552554Z",
          "iopub.status.idle": "2025-01-09T19:52:59.57462Z",
          "shell.execute_reply.started": "2025-01-09T19:52:59.552514Z",
          "shell.execute_reply": "2025-01-09T19:52:59.573905Z"
        },
        "id": "xRQqVtXSMJbC",
        "outputId": "5fad1a31-452d-4b1d-e86a-036ed4fc86ec",
        "colab": {
          "base_uri": "https://localhost:8080/",
          "height": 273
        }
      },
      "outputs": [
        {
          "output_type": "execute_result",
          "data": {
            "text/plain": [
              "        Fp1        AF3        F3         F7       FC5       FC1        C3  \\\n",
              "0  0.057813  -1.335266  4.640480   0.219573  7.473817  2.314842  1.918097   \n",
              "1  1.367408  10.259654  3.345409   7.897852 -2.446051 -1.655035 -6.301423   \n",
              "2 -1.783132   4.133553 -0.951680  -1.624803 -1.827309 -2.280364 -2.279225   \n",
              "3 -3.690217  -0.814000  2.295469   0.901445  8.323679  1.127906  6.356886   \n",
              "4  2.137114   6.420466  6.122230  10.015321  3.106394  3.183129  3.658535   \n",
              "\n",
              "          T7       CP5       CP1  ...        Cz        C4         T8  \\\n",
              "0  -9.257533  9.089943 -7.104519  ... -2.241480  1.415335   2.406646   \n",
              "1  -7.290317 -3.546453 -5.705187  ... -2.568397 -5.651418  -0.096730   \n",
              "2   9.151344 -0.239575 -0.057604  ... -2.132823 -0.521117   8.605298   \n",
              "3  11.642082  9.354154 -1.662478  ... -0.506117 -1.154866  -3.940251   \n",
              "4   4.571793  4.917712 -2.325940  ...  1.813907 -6.444635 -27.680880   \n",
              "\n",
              "         CP6       CP2        P4        P8       PO4        O2  Unnamed: 32  \n",
              "0  12.864059  4.021099 -2.828598 -2.588735  2.637905 -5.226618          NaN  \n",
              "1  -4.930759 -1.722504 -6.111309  0.094893 -3.521353  1.887093          NaN  \n",
              "2  -4.499946 -3.232839 -4.249645 -3.687167 -7.383004 -4.489537          NaN  \n",
              "3   7.390881  2.129897 -0.794675 -1.959021  2.774530 -6.323060          NaN  \n",
              "4   0.641364  1.996658 -0.445779  2.614021  6.161845  3.308816          NaN  \n",
              "\n",
              "[5 rows x 33 columns]"
            ],
            "text/html": [
              "\n",
              "  <div id=\"df-b5419c4c-8db5-4adc-a800-2fd19a531975\" class=\"colab-df-container\">\n",
              "    <div>\n",
              "<style scoped>\n",
              "    .dataframe tbody tr th:only-of-type {\n",
              "        vertical-align: middle;\n",
              "    }\n",
              "\n",
              "    .dataframe tbody tr th {\n",
              "        vertical-align: top;\n",
              "    }\n",
              "\n",
              "    .dataframe thead th {\n",
              "        text-align: right;\n",
              "    }\n",
              "</style>\n",
              "<table border=\"1\" class=\"dataframe\">\n",
              "  <thead>\n",
              "    <tr style=\"text-align: right;\">\n",
              "      <th></th>\n",
              "      <th>Fp1</th>\n",
              "      <th>AF3</th>\n",
              "      <th>F3</th>\n",
              "      <th>F7</th>\n",
              "      <th>FC5</th>\n",
              "      <th>FC1</th>\n",
              "      <th>C3</th>\n",
              "      <th>T7</th>\n",
              "      <th>CP5</th>\n",
              "      <th>CP1</th>\n",
              "      <th>...</th>\n",
              "      <th>Cz</th>\n",
              "      <th>C4</th>\n",
              "      <th>T8</th>\n",
              "      <th>CP6</th>\n",
              "      <th>CP2</th>\n",
              "      <th>P4</th>\n",
              "      <th>P8</th>\n",
              "      <th>PO4</th>\n",
              "      <th>O2</th>\n",
              "      <th>Unnamed: 32</th>\n",
              "    </tr>\n",
              "  </thead>\n",
              "  <tbody>\n",
              "    <tr>\n",
              "      <th>0</th>\n",
              "      <td>0.057813</td>\n",
              "      <td>-1.335266</td>\n",
              "      <td>4.640480</td>\n",
              "      <td>0.219573</td>\n",
              "      <td>7.473817</td>\n",
              "      <td>2.314842</td>\n",
              "      <td>1.918097</td>\n",
              "      <td>-9.257533</td>\n",
              "      <td>9.089943</td>\n",
              "      <td>-7.104519</td>\n",
              "      <td>...</td>\n",
              "      <td>-2.241480</td>\n",
              "      <td>1.415335</td>\n",
              "      <td>2.406646</td>\n",
              "      <td>12.864059</td>\n",
              "      <td>4.021099</td>\n",
              "      <td>-2.828598</td>\n",
              "      <td>-2.588735</td>\n",
              "      <td>2.637905</td>\n",
              "      <td>-5.226618</td>\n",
              "      <td>NaN</td>\n",
              "    </tr>\n",
              "    <tr>\n",
              "      <th>1</th>\n",
              "      <td>1.367408</td>\n",
              "      <td>10.259654</td>\n",
              "      <td>3.345409</td>\n",
              "      <td>7.897852</td>\n",
              "      <td>-2.446051</td>\n",
              "      <td>-1.655035</td>\n",
              "      <td>-6.301423</td>\n",
              "      <td>-7.290317</td>\n",
              "      <td>-3.546453</td>\n",
              "      <td>-5.705187</td>\n",
              "      <td>...</td>\n",
              "      <td>-2.568397</td>\n",
              "      <td>-5.651418</td>\n",
              "      <td>-0.096730</td>\n",
              "      <td>-4.930759</td>\n",
              "      <td>-1.722504</td>\n",
              "      <td>-6.111309</td>\n",
              "      <td>0.094893</td>\n",
              "      <td>-3.521353</td>\n",
              "      <td>1.887093</td>\n",
              "      <td>NaN</td>\n",
              "    </tr>\n",
              "    <tr>\n",
              "      <th>2</th>\n",
              "      <td>-1.783132</td>\n",
              "      <td>4.133553</td>\n",
              "      <td>-0.951680</td>\n",
              "      <td>-1.624803</td>\n",
              "      <td>-1.827309</td>\n",
              "      <td>-2.280364</td>\n",
              "      <td>-2.279225</td>\n",
              "      <td>9.151344</td>\n",
              "      <td>-0.239575</td>\n",
              "      <td>-0.057604</td>\n",
              "      <td>...</td>\n",
              "      <td>-2.132823</td>\n",
              "      <td>-0.521117</td>\n",
              "      <td>8.605298</td>\n",
              "      <td>-4.499946</td>\n",
              "      <td>-3.232839</td>\n",
              "      <td>-4.249645</td>\n",
              "      <td>-3.687167</td>\n",
              "      <td>-7.383004</td>\n",
              "      <td>-4.489537</td>\n",
              "      <td>NaN</td>\n",
              "    </tr>\n",
              "    <tr>\n",
              "      <th>3</th>\n",
              "      <td>-3.690217</td>\n",
              "      <td>-0.814000</td>\n",
              "      <td>2.295469</td>\n",
              "      <td>0.901445</td>\n",
              "      <td>8.323679</td>\n",
              "      <td>1.127906</td>\n",
              "      <td>6.356886</td>\n",
              "      <td>11.642082</td>\n",
              "      <td>9.354154</td>\n",
              "      <td>-1.662478</td>\n",
              "      <td>...</td>\n",
              "      <td>-0.506117</td>\n",
              "      <td>-1.154866</td>\n",
              "      <td>-3.940251</td>\n",
              "      <td>7.390881</td>\n",
              "      <td>2.129897</td>\n",
              "      <td>-0.794675</td>\n",
              "      <td>-1.959021</td>\n",
              "      <td>2.774530</td>\n",
              "      <td>-6.323060</td>\n",
              "      <td>NaN</td>\n",
              "    </tr>\n",
              "    <tr>\n",
              "      <th>4</th>\n",
              "      <td>2.137114</td>\n",
              "      <td>6.420466</td>\n",
              "      <td>6.122230</td>\n",
              "      <td>10.015321</td>\n",
              "      <td>3.106394</td>\n",
              "      <td>3.183129</td>\n",
              "      <td>3.658535</td>\n",
              "      <td>4.571793</td>\n",
              "      <td>4.917712</td>\n",
              "      <td>-2.325940</td>\n",
              "      <td>...</td>\n",
              "      <td>1.813907</td>\n",
              "      <td>-6.444635</td>\n",
              "      <td>-27.680880</td>\n",
              "      <td>0.641364</td>\n",
              "      <td>1.996658</td>\n",
              "      <td>-0.445779</td>\n",
              "      <td>2.614021</td>\n",
              "      <td>6.161845</td>\n",
              "      <td>3.308816</td>\n",
              "      <td>NaN</td>\n",
              "    </tr>\n",
              "  </tbody>\n",
              "</table>\n",
              "<p>5 rows × 33 columns</p>\n",
              "</div>\n",
              "    <div class=\"colab-df-buttons\">\n",
              "\n",
              "  <div class=\"colab-df-container\">\n",
              "    <button class=\"colab-df-convert\" onclick=\"convertToInteractive('df-b5419c4c-8db5-4adc-a800-2fd19a531975')\"\n",
              "            title=\"Convert this dataframe to an interactive table.\"\n",
              "            style=\"display:none;\">\n",
              "\n",
              "  <svg xmlns=\"http://www.w3.org/2000/svg\" height=\"24px\" viewBox=\"0 -960 960 960\">\n",
              "    <path d=\"M120-120v-720h720v720H120Zm60-500h600v-160H180v160Zm220 220h160v-160H400v160Zm0 220h160v-160H400v160ZM180-400h160v-160H180v160Zm440 0h160v-160H620v160ZM180-180h160v-160H180v160Zm440 0h160v-160H620v160Z\"/>\n",
              "  </svg>\n",
              "    </button>\n",
              "\n",
              "  <style>\n",
              "    .colab-df-container {\n",
              "      display:flex;\n",
              "      gap: 12px;\n",
              "    }\n",
              "\n",
              "    .colab-df-convert {\n",
              "      background-color: #E8F0FE;\n",
              "      border: none;\n",
              "      border-radius: 50%;\n",
              "      cursor: pointer;\n",
              "      display: none;\n",
              "      fill: #1967D2;\n",
              "      height: 32px;\n",
              "      padding: 0 0 0 0;\n",
              "      width: 32px;\n",
              "    }\n",
              "\n",
              "    .colab-df-convert:hover {\n",
              "      background-color: #E2EBFA;\n",
              "      box-shadow: 0px 1px 2px rgba(60, 64, 67, 0.3), 0px 1px 3px 1px rgba(60, 64, 67, 0.15);\n",
              "      fill: #174EA6;\n",
              "    }\n",
              "\n",
              "    .colab-df-buttons div {\n",
              "      margin-bottom: 4px;\n",
              "    }\n",
              "\n",
              "    [theme=dark] .colab-df-convert {\n",
              "      background-color: #3B4455;\n",
              "      fill: #D2E3FC;\n",
              "    }\n",
              "\n",
              "    [theme=dark] .colab-df-convert:hover {\n",
              "      background-color: #434B5C;\n",
              "      box-shadow: 0px 1px 3px 1px rgba(0, 0, 0, 0.15);\n",
              "      filter: drop-shadow(0px 1px 2px rgba(0, 0, 0, 0.3));\n",
              "      fill: #FFFFFF;\n",
              "    }\n",
              "  </style>\n",
              "\n",
              "    <script>\n",
              "      const buttonEl =\n",
              "        document.querySelector('#df-b5419c4c-8db5-4adc-a800-2fd19a531975 button.colab-df-convert');\n",
              "      buttonEl.style.display =\n",
              "        google.colab.kernel.accessAllowed ? 'block' : 'none';\n",
              "\n",
              "      async function convertToInteractive(key) {\n",
              "        const element = document.querySelector('#df-b5419c4c-8db5-4adc-a800-2fd19a531975');\n",
              "        const dataTable =\n",
              "          await google.colab.kernel.invokeFunction('convertToInteractive',\n",
              "                                                    [key], {});\n",
              "        if (!dataTable) return;\n",
              "\n",
              "        const docLinkHtml = 'Like what you see? Visit the ' +\n",
              "          '<a target=\"_blank\" href=https://colab.research.google.com/notebooks/data_table.ipynb>data table notebook</a>'\n",
              "          + ' to learn more about interactive tables.';\n",
              "        element.innerHTML = '';\n",
              "        dataTable['output_type'] = 'display_data';\n",
              "        await google.colab.output.renderOutput(dataTable, element);\n",
              "        const docLink = document.createElement('div');\n",
              "        docLink.innerHTML = docLinkHtml;\n",
              "        element.appendChild(docLink);\n",
              "      }\n",
              "    </script>\n",
              "  </div>\n",
              "\n",
              "\n",
              "    <div id=\"df-274651ff-c75a-4f52-8f8b-3933363bef79\">\n",
              "      <button class=\"colab-df-quickchart\" onclick=\"quickchart('df-274651ff-c75a-4f52-8f8b-3933363bef79')\"\n",
              "                title=\"Suggest charts\"\n",
              "                style=\"display:none;\">\n",
              "\n",
              "<svg xmlns=\"http://www.w3.org/2000/svg\" height=\"24px\"viewBox=\"0 0 24 24\"\n",
              "     width=\"24px\">\n",
              "    <g>\n",
              "        <path d=\"M19 3H5c-1.1 0-2 .9-2 2v14c0 1.1.9 2 2 2h14c1.1 0 2-.9 2-2V5c0-1.1-.9-2-2-2zM9 17H7v-7h2v7zm4 0h-2V7h2v10zm4 0h-2v-4h2v4z\"/>\n",
              "    </g>\n",
              "</svg>\n",
              "      </button>\n",
              "\n",
              "<style>\n",
              "  .colab-df-quickchart {\n",
              "      --bg-color: #E8F0FE;\n",
              "      --fill-color: #1967D2;\n",
              "      --hover-bg-color: #E2EBFA;\n",
              "      --hover-fill-color: #174EA6;\n",
              "      --disabled-fill-color: #AAA;\n",
              "      --disabled-bg-color: #DDD;\n",
              "  }\n",
              "\n",
              "  [theme=dark] .colab-df-quickchart {\n",
              "      --bg-color: #3B4455;\n",
              "      --fill-color: #D2E3FC;\n",
              "      --hover-bg-color: #434B5C;\n",
              "      --hover-fill-color: #FFFFFF;\n",
              "      --disabled-bg-color: #3B4455;\n",
              "      --disabled-fill-color: #666;\n",
              "  }\n",
              "\n",
              "  .colab-df-quickchart {\n",
              "    background-color: var(--bg-color);\n",
              "    border: none;\n",
              "    border-radius: 50%;\n",
              "    cursor: pointer;\n",
              "    display: none;\n",
              "    fill: var(--fill-color);\n",
              "    height: 32px;\n",
              "    padding: 0;\n",
              "    width: 32px;\n",
              "  }\n",
              "\n",
              "  .colab-df-quickchart:hover {\n",
              "    background-color: var(--hover-bg-color);\n",
              "    box-shadow: 0 1px 2px rgba(60, 64, 67, 0.3), 0 1px 3px 1px rgba(60, 64, 67, 0.15);\n",
              "    fill: var(--button-hover-fill-color);\n",
              "  }\n",
              "\n",
              "  .colab-df-quickchart-complete:disabled,\n",
              "  .colab-df-quickchart-complete:disabled:hover {\n",
              "    background-color: var(--disabled-bg-color);\n",
              "    fill: var(--disabled-fill-color);\n",
              "    box-shadow: none;\n",
              "  }\n",
              "\n",
              "  .colab-df-spinner {\n",
              "    border: 2px solid var(--fill-color);\n",
              "    border-color: transparent;\n",
              "    border-bottom-color: var(--fill-color);\n",
              "    animation:\n",
              "      spin 1s steps(1) infinite;\n",
              "  }\n",
              "\n",
              "  @keyframes spin {\n",
              "    0% {\n",
              "      border-color: transparent;\n",
              "      border-bottom-color: var(--fill-color);\n",
              "      border-left-color: var(--fill-color);\n",
              "    }\n",
              "    20% {\n",
              "      border-color: transparent;\n",
              "      border-left-color: var(--fill-color);\n",
              "      border-top-color: var(--fill-color);\n",
              "    }\n",
              "    30% {\n",
              "      border-color: transparent;\n",
              "      border-left-color: var(--fill-color);\n",
              "      border-top-color: var(--fill-color);\n",
              "      border-right-color: var(--fill-color);\n",
              "    }\n",
              "    40% {\n",
              "      border-color: transparent;\n",
              "      border-right-color: var(--fill-color);\n",
              "      border-top-color: var(--fill-color);\n",
              "    }\n",
              "    60% {\n",
              "      border-color: transparent;\n",
              "      border-right-color: var(--fill-color);\n",
              "    }\n",
              "    80% {\n",
              "      border-color: transparent;\n",
              "      border-right-color: var(--fill-color);\n",
              "      border-bottom-color: var(--fill-color);\n",
              "    }\n",
              "    90% {\n",
              "      border-color: transparent;\n",
              "      border-bottom-color: var(--fill-color);\n",
              "    }\n",
              "  }\n",
              "</style>\n",
              "\n",
              "      <script>\n",
              "        async function quickchart(key) {\n",
              "          const quickchartButtonEl =\n",
              "            document.querySelector('#' + key + ' button');\n",
              "          quickchartButtonEl.disabled = true;  // To prevent multiple clicks.\n",
              "          quickchartButtonEl.classList.add('colab-df-spinner');\n",
              "          try {\n",
              "            const charts = await google.colab.kernel.invokeFunction(\n",
              "                'suggestCharts', [key], {});\n",
              "          } catch (error) {\n",
              "            console.error('Error during call to suggestCharts:', error);\n",
              "          }\n",
              "          quickchartButtonEl.classList.remove('colab-df-spinner');\n",
              "          quickchartButtonEl.classList.add('colab-df-quickchart-complete');\n",
              "        }\n",
              "        (() => {\n",
              "          let quickchartButtonEl =\n",
              "            document.querySelector('#df-274651ff-c75a-4f52-8f8b-3933363bef79 button');\n",
              "          quickchartButtonEl.style.display =\n",
              "            google.colab.kernel.accessAllowed ? 'block' : 'none';\n",
              "        })();\n",
              "      </script>\n",
              "    </div>\n",
              "\n",
              "    </div>\n",
              "  </div>\n"
            ],
            "application/vnd.google.colaboratory.intrinsic+json": {
              "type": "dataframe",
              "variable_name": "data"
            }
          },
          "metadata": {},
          "execution_count": 23
        }
      ],
      "execution_count": 23
    },
    {
      "cell_type": "code",
      "source": [
        "data.shape"
      ],
      "metadata": {
        "trusted": true,
        "execution": {
          "iopub.status.busy": "2025-01-09T19:52:59.575371Z",
          "iopub.execute_input": "2025-01-09T19:52:59.575631Z",
          "iopub.status.idle": "2025-01-09T19:52:59.587296Z",
          "shell.execute_reply.started": "2025-01-09T19:52:59.575609Z",
          "shell.execute_reply": "2025-01-09T19:52:59.586629Z"
        },
        "id": "ZJCLi1ijMJbD",
        "outputId": "b531482a-b971-473f-a9d2-b288b8f5d119",
        "colab": {
          "base_uri": "https://localhost:8080/"
        }
      },
      "outputs": [
        {
          "output_type": "execute_result",
          "data": {
            "text/plain": [
              "(8064, 33)"
            ]
          },
          "metadata": {},
          "execution_count": 26
        }
      ],
      "execution_count": 26
    },
    {
      "cell_type": "code",
      "source": [
        "pos = data.loc[data[\"label\"]==\"POSITIVE\"]\n",
        "sample_pos = pos.loc[2, 'fft_0_b':'fft_749_b']\n",
        "neg = data.loc[data[\"label\"]==\"NEGATIVE\"]\n",
        "sample_neg = neg.loc[0, 'fft_0_b':'fft_749_b']\n",
        "neu = data.loc[data[\"label\"]==\"NEUTRAL\"]\n",
        "sample_neu = neu.loc[1, 'fft_0_b':'fft_749_b']"
      ],
      "metadata": {
        "trusted": true,
        "execution": {
          "iopub.status.busy": "2025-01-09T19:52:59.588086Z",
          "iopub.execute_input": "2025-01-09T19:52:59.588301Z",
          "iopub.status.idle": "2025-01-09T19:52:59.627347Z",
          "shell.execute_reply.started": "2025-01-09T19:52:59.588281Z",
          "shell.execute_reply": "2025-01-09T19:52:59.62672Z"
        },
        "id": "Uxr9jhMFMJbD",
        "outputId": "300173b0-e8fa-4d23-ae89-0967400ee207",
        "colab": {
          "base_uri": "https://localhost:8080/",
          "height": 547
        }
      },
      "outputs": [
        {
          "output_type": "error",
          "ename": "KeyError",
          "evalue": "'label'",
          "traceback": [
            "\u001b[0;31m---------------------------------------------------------------------------\u001b[0m",
            "\u001b[0;31mKeyError\u001b[0m                                  Traceback (most recent call last)",
            "\u001b[0;32m/usr/local/lib/python3.11/dist-packages/pandas/core/indexes/base.py\u001b[0m in \u001b[0;36mget_loc\u001b[0;34m(self, key)\u001b[0m\n\u001b[1;32m   3804\u001b[0m         \u001b[0;32mtry\u001b[0m\u001b[0;34m:\u001b[0m\u001b[0;34m\u001b[0m\u001b[0;34m\u001b[0m\u001b[0m\n\u001b[0;32m-> 3805\u001b[0;31m             \u001b[0;32mreturn\u001b[0m \u001b[0mself\u001b[0m\u001b[0;34m.\u001b[0m\u001b[0m_engine\u001b[0m\u001b[0;34m.\u001b[0m\u001b[0mget_loc\u001b[0m\u001b[0;34m(\u001b[0m\u001b[0mcasted_key\u001b[0m\u001b[0;34m)\u001b[0m\u001b[0;34m\u001b[0m\u001b[0;34m\u001b[0m\u001b[0m\n\u001b[0m\u001b[1;32m   3806\u001b[0m         \u001b[0;32mexcept\u001b[0m \u001b[0mKeyError\u001b[0m \u001b[0;32mas\u001b[0m \u001b[0merr\u001b[0m\u001b[0;34m:\u001b[0m\u001b[0;34m\u001b[0m\u001b[0;34m\u001b[0m\u001b[0m\n",
            "\u001b[0;32mindex.pyx\u001b[0m in \u001b[0;36mpandas._libs.index.IndexEngine.get_loc\u001b[0;34m()\u001b[0m\n",
            "\u001b[0;32mindex.pyx\u001b[0m in \u001b[0;36mpandas._libs.index.IndexEngine.get_loc\u001b[0;34m()\u001b[0m\n",
            "\u001b[0;32mpandas/_libs/hashtable_class_helper.pxi\u001b[0m in \u001b[0;36mpandas._libs.hashtable.PyObjectHashTable.get_item\u001b[0;34m()\u001b[0m\n",
            "\u001b[0;32mpandas/_libs/hashtable_class_helper.pxi\u001b[0m in \u001b[0;36mpandas._libs.hashtable.PyObjectHashTable.get_item\u001b[0;34m()\u001b[0m\n",
            "\u001b[0;31mKeyError\u001b[0m: 'label'",
            "\nThe above exception was the direct cause of the following exception:\n",
            "\u001b[0;31mKeyError\u001b[0m                                  Traceback (most recent call last)",
            "\u001b[0;32m<ipython-input-27-52399922fcfb>\u001b[0m in \u001b[0;36m<cell line: 0>\u001b[0;34m()\u001b[0m\n\u001b[0;32m----> 1\u001b[0;31m \u001b[0mpos\u001b[0m \u001b[0;34m=\u001b[0m \u001b[0mdata\u001b[0m\u001b[0;34m.\u001b[0m\u001b[0mloc\u001b[0m\u001b[0;34m[\u001b[0m\u001b[0mdata\u001b[0m\u001b[0;34m[\u001b[0m\u001b[0;34m\"label\"\u001b[0m\u001b[0;34m]\u001b[0m\u001b[0;34m==\u001b[0m\u001b[0;34m\"POSITIVE\"\u001b[0m\u001b[0;34m]\u001b[0m\u001b[0;34m\u001b[0m\u001b[0;34m\u001b[0m\u001b[0m\n\u001b[0m\u001b[1;32m      2\u001b[0m \u001b[0msample_pos\u001b[0m \u001b[0;34m=\u001b[0m \u001b[0mpos\u001b[0m\u001b[0;34m.\u001b[0m\u001b[0mloc\u001b[0m\u001b[0;34m[\u001b[0m\u001b[0;36m2\u001b[0m\u001b[0;34m,\u001b[0m \u001b[0;34m'fft_0_b'\u001b[0m\u001b[0;34m:\u001b[0m\u001b[0;34m'fft_749_b'\u001b[0m\u001b[0;34m]\u001b[0m\u001b[0;34m\u001b[0m\u001b[0;34m\u001b[0m\u001b[0m\n\u001b[1;32m      3\u001b[0m \u001b[0mneg\u001b[0m \u001b[0;34m=\u001b[0m \u001b[0mdata\u001b[0m\u001b[0;34m.\u001b[0m\u001b[0mloc\u001b[0m\u001b[0;34m[\u001b[0m\u001b[0mdata\u001b[0m\u001b[0;34m[\u001b[0m\u001b[0;34m\"label\"\u001b[0m\u001b[0;34m]\u001b[0m\u001b[0;34m==\u001b[0m\u001b[0;34m\"NEGATIVE\"\u001b[0m\u001b[0;34m]\u001b[0m\u001b[0;34m\u001b[0m\u001b[0;34m\u001b[0m\u001b[0m\n\u001b[1;32m      4\u001b[0m \u001b[0msample_neg\u001b[0m \u001b[0;34m=\u001b[0m \u001b[0mneg\u001b[0m\u001b[0;34m.\u001b[0m\u001b[0mloc\u001b[0m\u001b[0;34m[\u001b[0m\u001b[0;36m0\u001b[0m\u001b[0;34m,\u001b[0m \u001b[0;34m'fft_0_b'\u001b[0m\u001b[0;34m:\u001b[0m\u001b[0;34m'fft_749_b'\u001b[0m\u001b[0;34m]\u001b[0m\u001b[0;34m\u001b[0m\u001b[0;34m\u001b[0m\u001b[0m\n\u001b[1;32m      5\u001b[0m \u001b[0mneu\u001b[0m \u001b[0;34m=\u001b[0m \u001b[0mdata\u001b[0m\u001b[0;34m.\u001b[0m\u001b[0mloc\u001b[0m\u001b[0;34m[\u001b[0m\u001b[0mdata\u001b[0m\u001b[0;34m[\u001b[0m\u001b[0;34m\"label\"\u001b[0m\u001b[0;34m]\u001b[0m\u001b[0;34m==\u001b[0m\u001b[0;34m\"NEUTRAL\"\u001b[0m\u001b[0;34m]\u001b[0m\u001b[0;34m\u001b[0m\u001b[0;34m\u001b[0m\u001b[0m\n",
            "\u001b[0;32m/usr/local/lib/python3.11/dist-packages/pandas/core/frame.py\u001b[0m in \u001b[0;36m__getitem__\u001b[0;34m(self, key)\u001b[0m\n\u001b[1;32m   4100\u001b[0m             \u001b[0;32mif\u001b[0m \u001b[0mself\u001b[0m\u001b[0;34m.\u001b[0m\u001b[0mcolumns\u001b[0m\u001b[0;34m.\u001b[0m\u001b[0mnlevels\u001b[0m \u001b[0;34m>\u001b[0m \u001b[0;36m1\u001b[0m\u001b[0;34m:\u001b[0m\u001b[0;34m\u001b[0m\u001b[0;34m\u001b[0m\u001b[0m\n\u001b[1;32m   4101\u001b[0m                 \u001b[0;32mreturn\u001b[0m \u001b[0mself\u001b[0m\u001b[0;34m.\u001b[0m\u001b[0m_getitem_multilevel\u001b[0m\u001b[0;34m(\u001b[0m\u001b[0mkey\u001b[0m\u001b[0;34m)\u001b[0m\u001b[0;34m\u001b[0m\u001b[0;34m\u001b[0m\u001b[0m\n\u001b[0;32m-> 4102\u001b[0;31m             \u001b[0mindexer\u001b[0m \u001b[0;34m=\u001b[0m \u001b[0mself\u001b[0m\u001b[0;34m.\u001b[0m\u001b[0mcolumns\u001b[0m\u001b[0;34m.\u001b[0m\u001b[0mget_loc\u001b[0m\u001b[0;34m(\u001b[0m\u001b[0mkey\u001b[0m\u001b[0;34m)\u001b[0m\u001b[0;34m\u001b[0m\u001b[0;34m\u001b[0m\u001b[0m\n\u001b[0m\u001b[1;32m   4103\u001b[0m             \u001b[0;32mif\u001b[0m \u001b[0mis_integer\u001b[0m\u001b[0;34m(\u001b[0m\u001b[0mindexer\u001b[0m\u001b[0;34m)\u001b[0m\u001b[0;34m:\u001b[0m\u001b[0;34m\u001b[0m\u001b[0;34m\u001b[0m\u001b[0m\n\u001b[1;32m   4104\u001b[0m                 \u001b[0mindexer\u001b[0m \u001b[0;34m=\u001b[0m \u001b[0;34m[\u001b[0m\u001b[0mindexer\u001b[0m\u001b[0;34m]\u001b[0m\u001b[0;34m\u001b[0m\u001b[0;34m\u001b[0m\u001b[0m\n",
            "\u001b[0;32m/usr/local/lib/python3.11/dist-packages/pandas/core/indexes/base.py\u001b[0m in \u001b[0;36mget_loc\u001b[0;34m(self, key)\u001b[0m\n\u001b[1;32m   3810\u001b[0m             ):\n\u001b[1;32m   3811\u001b[0m                 \u001b[0;32mraise\u001b[0m \u001b[0mInvalidIndexError\u001b[0m\u001b[0;34m(\u001b[0m\u001b[0mkey\u001b[0m\u001b[0;34m)\u001b[0m\u001b[0;34m\u001b[0m\u001b[0;34m\u001b[0m\u001b[0m\n\u001b[0;32m-> 3812\u001b[0;31m             \u001b[0;32mraise\u001b[0m \u001b[0mKeyError\u001b[0m\u001b[0;34m(\u001b[0m\u001b[0mkey\u001b[0m\u001b[0;34m)\u001b[0m \u001b[0;32mfrom\u001b[0m \u001b[0merr\u001b[0m\u001b[0;34m\u001b[0m\u001b[0;34m\u001b[0m\u001b[0m\n\u001b[0m\u001b[1;32m   3813\u001b[0m         \u001b[0;32mexcept\u001b[0m \u001b[0mTypeError\u001b[0m\u001b[0;34m:\u001b[0m\u001b[0;34m\u001b[0m\u001b[0;34m\u001b[0m\u001b[0m\n\u001b[1;32m   3814\u001b[0m             \u001b[0;31m# If we have a listlike key, _check_indexing_error will raise\u001b[0m\u001b[0;34m\u001b[0m\u001b[0;34m\u001b[0m\u001b[0m\n",
            "\u001b[0;31mKeyError\u001b[0m: 'label'"
          ]
        }
      ],
      "execution_count": 27
    },
    {
      "cell_type": "code",
      "source": [
        "plt.figure(figsize=(25,7))\n",
        "plt.title(\"Data distribution of Emotions\")\n",
        "plt.style.use('fivethirtyeight')\n",
        "sns.countplot(x='label', data=data)\n",
        "plt.show()"
      ],
      "metadata": {
        "trusted": true,
        "execution": {
          "iopub.status.busy": "2025-01-09T19:52:59.628125Z",
          "iopub.execute_input": "2025-01-09T19:52:59.628322Z",
          "iopub.status.idle": "2025-01-09T19:52:59.915248Z",
          "shell.execute_reply.started": "2025-01-09T19:52:59.628303Z",
          "shell.execute_reply": "2025-01-09T19:52:59.914512Z"
        },
        "id": "GO9tz3Q4MJbE"
      },
      "outputs": [],
      "execution_count": null
    },
    {
      "cell_type": "code",
      "source": [
        "def Transform_data(data):\n",
        "\n",
        "    encoding_data = ({'NEUTRAL': 0, 'POSITIVE': 1, 'NEGATIVE': 2} )\n",
        "    data_encoded = data.replace(encoding_data)\n",
        "\n",
        "    x=data_encoded.drop([\"label\"]  ,axis=1)\n",
        "\n",
        "    y = data_encoded.loc[:,'label'].values\n",
        "    scaler = StandardScaler()\n",
        "\n",
        "    scaler.fit(x)\n",
        "    X = scaler.transform(x)\n",
        "\n",
        "    Y = to_categorical(y)\n",
        "    return X,Y"
      ],
      "metadata": {
        "trusted": true,
        "execution": {
          "iopub.status.busy": "2025-01-09T19:52:59.916032Z",
          "iopub.execute_input": "2025-01-09T19:52:59.916315Z",
          "iopub.status.idle": "2025-01-09T19:52:59.920539Z",
          "shell.execute_reply.started": "2025-01-09T19:52:59.916281Z",
          "shell.execute_reply": "2025-01-09T19:52:59.919761Z"
        },
        "id": "xBBLb1L1MJbE"
      },
      "outputs": [],
      "execution_count": null
    },
    {
      "cell_type": "code",
      "source": [
        "X,Y = Transform_data(data)\n",
        "x_train, x_test, y_train, y_test = train_test_split(X, Y, test_size = 0.2, random_state = 4)"
      ],
      "metadata": {
        "trusted": true,
        "execution": {
          "iopub.status.busy": "2025-01-09T19:52:59.921333Z",
          "iopub.execute_input": "2025-01-09T19:52:59.921594Z",
          "iopub.status.idle": "2025-01-09T19:53:00.121993Z",
          "shell.execute_reply.started": "2025-01-09T19:52:59.921575Z",
          "shell.execute_reply": "2025-01-09T19:53:00.121317Z"
        },
        "id": "63q1pexLMJbF"
      },
      "outputs": [],
      "execution_count": null
    },
    {
      "cell_type": "code",
      "source": [
        "x_train.shape"
      ],
      "metadata": {
        "trusted": true,
        "execution": {
          "iopub.status.busy": "2025-01-09T19:53:00.122706Z",
          "iopub.execute_input": "2025-01-09T19:53:00.122921Z",
          "iopub.status.idle": "2025-01-09T19:53:00.127825Z",
          "shell.execute_reply.started": "2025-01-09T19:53:00.122902Z",
          "shell.execute_reply": "2025-01-09T19:53:00.127059Z"
        },
        "id": "yDfBshirMJbF"
      },
      "outputs": [],
      "execution_count": null
    },
    {
      "cell_type": "markdown",
      "source": [
        "**GRU**"
      ],
      "metadata": {
        "id": "6f_f2qsoMJbF"
      }
    },
    {
      "cell_type": "code",
      "source": [
        "import tensorflow as tf\n",
        "\n",
        "def create_model():\n",
        "    inputs = tf.keras.Input(shape=(x_train.shape[1],))\n",
        "\n",
        "    expand_dims = tf.keras.layers.Reshape((x_train.shape[1], 1))(inputs)\n",
        "\n",
        "    gru = tf.keras.layers.GRU(256, return_sequences=True)(expand_dims)\n",
        "\n",
        "    flatten = tf.keras.layers.Flatten()(gru)\n",
        "\n",
        "    dense = tf.keras.layers.Dense(128, activation='relu')(flatten)\n",
        "\n",
        "    outputs = tf.keras.layers.Dense(3, activation='softmax')(dense)\n",
        "\n",
        "    model = tf.keras.Model(inputs=inputs, outputs=outputs)\n",
        "    return model\n",
        "\n",
        "lstmmodel = create_model()\n",
        "\n",
        "lstmmodel.compile(\n",
        "    optimizer='adam',\n",
        "    loss='categorical_crossentropy',\n",
        "    metrics=['accuracy']\n",
        ")\n",
        "\n",
        "lstmmodel.summary()"
      ],
      "metadata": {
        "trusted": true,
        "execution": {
          "iopub.status.busy": "2025-01-09T19:53:00.12857Z",
          "iopub.execute_input": "2025-01-09T19:53:00.12876Z",
          "iopub.status.idle": "2025-01-09T19:53:00.225029Z",
          "shell.execute_reply.started": "2025-01-09T19:53:00.128742Z",
          "shell.execute_reply": "2025-01-09T19:53:00.224391Z"
        },
        "id": "4GxeI3RvMJbJ"
      },
      "outputs": [],
      "execution_count": null
    },
    {
      "cell_type": "code",
      "source": [
        "history1 = lstmmodel.fit(x_train, y_train, epochs = 10, validation_split=0.1)\n",
        "loss, acc = lstmmodel.evaluate(x_test, y_test)"
      ],
      "metadata": {
        "trusted": true,
        "execution": {
          "iopub.status.busy": "2025-01-09T19:53:00.225945Z",
          "iopub.execute_input": "2025-01-09T19:53:00.226209Z",
          "iopub.status.idle": "2025-01-09T19:54:20.040008Z",
          "shell.execute_reply.started": "2025-01-09T19:53:00.226186Z",
          "shell.execute_reply": "2025-01-09T19:54:20.039124Z"
        },
        "id": "UXlP5_uRMJbK"
      },
      "outputs": [],
      "execution_count": null
    },
    {
      "cell_type": "code",
      "source": [
        "test_loss, test_acc = lstmmodel.evaluate(x_test, y_test)\n",
        "print(f'Test accuracy: {test_acc:.4f}')"
      ],
      "metadata": {
        "trusted": true,
        "execution": {
          "iopub.status.busy": "2025-01-09T19:54:20.044326Z",
          "iopub.execute_input": "2025-01-09T19:54:20.044581Z",
          "iopub.status.idle": "2025-01-09T19:54:20.752732Z",
          "shell.execute_reply.started": "2025-01-09T19:54:20.044559Z",
          "shell.execute_reply": "2025-01-09T19:54:20.751929Z"
        },
        "id": "IKID070qMJbN"
      },
      "outputs": [],
      "execution_count": null
    },
    {
      "cell_type": "code",
      "source": [
        "plt.style.use(\"fivethirtyeight\")\n",
        "plt.figure(figsize = (8,4))\n",
        "plt.subplot(1, 2, 1)\n",
        "plt.plot(history1.history['loss'])\n",
        "plt.plot(history1.history['val_loss'])\n",
        "plt.title(\"Model Loss\",fontsize=20)\n",
        "plt.ylabel('Loss')\n",
        "plt.xlabel('Epochs')\n",
        "plt.legend(['train loss', 'validation loss'], loc ='best')\n",
        "\n",
        "plt.subplot(1, 2, 2)\n",
        "plt.plot(history1.history['accuracy'])\n",
        "plt.plot(history1.history['val_accuracy'])\n",
        "plt.title(\"Model Accuracy\",fontsize=20)\n",
        "plt.ylabel('Accuracy')\n",
        "plt.xlabel('Epochs')\n",
        "plt.legend(['training accuracy', 'validation accuracy'], loc ='best')\n",
        "plt.show()"
      ],
      "metadata": {
        "trusted": true,
        "execution": {
          "iopub.status.busy": "2025-01-09T19:54:20.754273Z",
          "iopub.execute_input": "2025-01-09T19:54:20.754497Z",
          "iopub.status.idle": "2025-01-09T19:54:21.170286Z",
          "shell.execute_reply.started": "2025-01-09T19:54:20.754477Z",
          "shell.execute_reply": "2025-01-09T19:54:21.169383Z"
        },
        "id": "A-TvOwbMMJbN"
      },
      "outputs": [],
      "execution_count": null
    },
    {
      "cell_type": "markdown",
      "source": [
        "**CNN1 Model**"
      ],
      "metadata": {
        "id": "0fU3sDGFMJbO"
      }
    },
    {
      "cell_type": "code",
      "source": [
        "def create_cnn1_model():\n",
        "    inputs = tf.keras.Input(shape=(x_train.shape[1], 1))  # Input shape: (sequence_length, 1)\n",
        "\n",
        "    # Convolutional Layer\n",
        "    conv1 = tf.keras.layers.Conv1D(filters=64, kernel_size=3, activation='relu')(inputs)\n",
        "\n",
        "    # Pooling Layer\n",
        "    pool1 = tf.keras.layers.MaxPooling1D(pool_size=2)(conv1)\n",
        "\n",
        "    # Flatten the output\n",
        "    flatten = tf.keras.layers.Flatten()(pool1)\n",
        "\n",
        "    # Dense Layer\n",
        "    dense = tf.keras.layers.Dense(128, activation='relu')(flatten)\n",
        "\n",
        "    # Output Layer\n",
        "    outputs = tf.keras.layers.Dense(3, activation='softmax')(dense)\n",
        "\n",
        "    # Create the model\n",
        "    model = tf.keras.Model(inputs=inputs, outputs=outputs)\n",
        "    return model\n",
        "\n",
        "# Create the CNN1 model\n",
        "cnn1_model = create_cnn1_model()\n",
        "\n",
        "# Compile the model\n",
        "cnn1_model.compile(\n",
        "    optimizer='adam',\n",
        "    loss='categorical_crossentropy',\n",
        "    metrics=['accuracy']\n",
        ")\n",
        "\n",
        "# Print model summary\n",
        "cnn1_model.summary()"
      ],
      "metadata": {
        "trusted": true,
        "execution": {
          "iopub.status.busy": "2025-01-09T19:54:21.171045Z",
          "iopub.execute_input": "2025-01-09T19:54:21.171324Z",
          "iopub.status.idle": "2025-01-09T19:54:21.215744Z",
          "shell.execute_reply.started": "2025-01-09T19:54:21.171302Z",
          "shell.execute_reply": "2025-01-09T19:54:21.215055Z"
        },
        "id": "RRboVTcGMJbO"
      },
      "outputs": [],
      "execution_count": null
    },
    {
      "cell_type": "code",
      "source": [
        "history2 = cnn1_model.fit(x_train, y_train, epochs = 10, validation_split=0.1)\n",
        "loss, acc = cnn1_model.evaluate(x_test, y_test)"
      ],
      "metadata": {
        "trusted": true,
        "execution": {
          "iopub.status.busy": "2025-01-09T19:54:21.216616Z",
          "iopub.execute_input": "2025-01-09T19:54:21.216929Z",
          "iopub.status.idle": "2025-01-09T19:54:29.833309Z",
          "shell.execute_reply.started": "2025-01-09T19:54:21.216898Z",
          "shell.execute_reply": "2025-01-09T19:54:29.83247Z"
        },
        "id": "b7GDtd0VMJbP"
      },
      "outputs": [],
      "execution_count": null
    },
    {
      "cell_type": "code",
      "source": [
        "test_loss, test_acc = cnn1_model.evaluate(x_test, y_test)\n",
        "print(f'Test accuracy: {test_acc:.4f}')"
      ],
      "metadata": {
        "trusted": true,
        "execution": {
          "iopub.status.busy": "2025-01-09T19:54:29.834438Z",
          "iopub.execute_input": "2025-01-09T19:54:29.834756Z",
          "iopub.status.idle": "2025-01-09T19:54:29.928791Z",
          "shell.execute_reply.started": "2025-01-09T19:54:29.834725Z",
          "shell.execute_reply": "2025-01-09T19:54:29.928025Z"
        },
        "id": "4LzykFyGMJbP"
      },
      "outputs": [],
      "execution_count": null
    },
    {
      "cell_type": "code",
      "source": [
        "plt.style.use(\"fivethirtyeight\")\n",
        "plt.figure(figsize = (8,4))\n",
        "plt.subplot(1, 2, 1)\n",
        "plt.plot(history2.history['loss'])\n",
        "plt.plot(history2.history['val_loss'])\n",
        "plt.title(\"Model Loss\",fontsize=15)\n",
        "plt.ylabel('Loss')\n",
        "plt.xlabel('Epochs')\n",
        "plt.legend(['train loss', 'validation loss'], loc ='best')\n",
        "\n",
        "plt.subplot(1, 2, 2)\n",
        "plt.plot(history2.history['accuracy'])\n",
        "plt.plot(history2.history['val_accuracy'])\n",
        "plt.title(\"Model Accuracy\",fontsize=15)\n",
        "plt.ylabel('Accuracy')\n",
        "plt.xlabel('Epochs')\n",
        "plt.legend(['training accuracy', 'validation accuracy'], loc ='best')\n",
        "plt.show()"
      ],
      "metadata": {
        "trusted": true,
        "execution": {
          "iopub.status.busy": "2025-01-09T19:54:29.929715Z",
          "iopub.execute_input": "2025-01-09T19:54:29.930026Z",
          "iopub.status.idle": "2025-01-09T19:54:30.244659Z",
          "shell.execute_reply.started": "2025-01-09T19:54:29.929987Z",
          "shell.execute_reply": "2025-01-09T19:54:30.243792Z"
        },
        "id": "b73qD07dMJbQ"
      },
      "outputs": [],
      "execution_count": null
    },
    {
      "cell_type": "markdown",
      "source": [
        "**CNN2 Model**"
      ],
      "metadata": {
        "id": "b7g8b9MVMJbQ"
      }
    },
    {
      "cell_type": "code",
      "source": [
        "def create_cnn2_model():\n",
        "    inputs = tf.keras.Input(shape=(x_train.shape[1], 1))  # Input shape: (sequence_length, 1)\n",
        "\n",
        "    # First Convolutional Layer\n",
        "    conv1 = tf.keras.layers.Conv1D(filters=64, kernel_size=3, activation='relu')(inputs)\n",
        "    pool1 = tf.keras.layers.MaxPooling1D(pool_size=2)(conv1)\n",
        "\n",
        "    # Second Convolutional Layer\n",
        "    conv2 = tf.keras.layers.Conv1D(filters=128, kernel_size=3, activation='relu')(pool1)\n",
        "    pool2 = tf.keras.layers.MaxPooling1D(pool_size=2)(conv2)\n",
        "\n",
        "    # Flatten the output\n",
        "    flatten = tf.keras.layers.Flatten()(pool2)\n",
        "\n",
        "    # Dense Layer\n",
        "    dense = tf.keras.layers.Dense(128, activation='relu')(flatten)\n",
        "\n",
        "    # Output Layer\n",
        "    outputs = tf.keras.layers.Dense(3, activation='softmax')(dense)\n",
        "\n",
        "    # Create the model\n",
        "    model = tf.keras.Model(inputs=inputs, outputs=outputs)\n",
        "    return model\n",
        "\n",
        "# Create the CNN2 model\n",
        "cnn2_model = create_cnn2_model()\n",
        "\n",
        "# Compile the model\n",
        "cnn2_model.compile(\n",
        "    optimizer='adam',\n",
        "    loss='categorical_crossentropy',\n",
        "    metrics=['accuracy']\n",
        ")\n",
        "\n",
        "# Print model summary\n",
        "cnn2_model.summary()"
      ],
      "metadata": {
        "trusted": true,
        "execution": {
          "iopub.status.busy": "2025-01-09T19:54:30.245581Z",
          "iopub.execute_input": "2025-01-09T19:54:30.245869Z",
          "iopub.status.idle": "2025-01-09T19:54:30.298298Z",
          "shell.execute_reply.started": "2025-01-09T19:54:30.24583Z",
          "shell.execute_reply": "2025-01-09T19:54:30.297492Z"
        },
        "id": "1uZKrgSCMJbR"
      },
      "outputs": [],
      "execution_count": null
    },
    {
      "cell_type": "code",
      "source": [
        "history3 = cnn2_model.fit(x_train, y_train, epochs = 10, validation_split=0.1)\n",
        "loss, acc = cnn2_model.evaluate(x_test, y_test)"
      ],
      "metadata": {
        "trusted": true,
        "execution": {
          "iopub.status.busy": "2025-01-09T19:54:30.299139Z",
          "iopub.execute_input": "2025-01-09T19:54:30.299408Z",
          "iopub.status.idle": "2025-01-09T19:54:41.345752Z",
          "shell.execute_reply.started": "2025-01-09T19:54:30.299388Z",
          "shell.execute_reply": "2025-01-09T19:54:41.344814Z"
        },
        "id": "6GsBLcqiMJbS"
      },
      "outputs": [],
      "execution_count": null
    },
    {
      "cell_type": "code",
      "source": [
        "test_loss, test_acc = cnn2_model.evaluate(x_test, y_test)\n",
        "print(f'Test accuracy: {test_acc:.4f}')"
      ],
      "metadata": {
        "trusted": true,
        "execution": {
          "iopub.status.busy": "2025-01-09T19:54:41.346775Z",
          "iopub.execute_input": "2025-01-09T19:54:41.347108Z",
          "iopub.status.idle": "2025-01-09T19:54:41.442265Z",
          "shell.execute_reply.started": "2025-01-09T19:54:41.347076Z",
          "shell.execute_reply": "2025-01-09T19:54:41.441428Z"
        },
        "id": "5TtrWReAMJbT"
      },
      "outputs": [],
      "execution_count": null
    },
    {
      "cell_type": "code",
      "source": [
        "plt.style.use(\"fivethirtyeight\")\n",
        "plt.figure(figsize = (8,4))\n",
        "plt.subplot(1, 2, 1)\n",
        "plt.plot(history3.history['loss'])\n",
        "plt.plot(history3.history['val_loss'])\n",
        "plt.title(\"Model Loss\",fontsize=15)\n",
        "plt.ylabel('Loss')\n",
        "plt.xlabel('Epochs')\n",
        "plt.legend(['train loss', 'validation loss'], loc ='best')\n",
        "\n",
        "plt.subplot(1, 2, 2)\n",
        "plt.plot(history3.history['accuracy'])\n",
        "plt.plot(history3.history['val_accuracy'])\n",
        "plt.title(\"Model Accuracy\",fontsize=15)\n",
        "plt.ylabel('Accuracy')\n",
        "plt.xlabel('Epochs')\n",
        "plt.legend(['training accuracy', 'validation accuracy'], loc ='best')\n",
        "plt.show()"
      ],
      "metadata": {
        "trusted": true,
        "execution": {
          "iopub.status.busy": "2025-01-09T19:54:41.443112Z",
          "iopub.execute_input": "2025-01-09T19:54:41.443344Z",
          "iopub.status.idle": "2025-01-09T19:54:41.799714Z",
          "shell.execute_reply.started": "2025-01-09T19:54:41.443324Z",
          "shell.execute_reply": "2025-01-09T19:54:41.798816Z"
        },
        "id": "DBqG0zsRMJbT"
      },
      "outputs": [],
      "execution_count": null
    },
    {
      "cell_type": "markdown",
      "source": [
        "**CNN3_Model**"
      ],
      "metadata": {
        "id": "k-HPwwBFMJbU"
      }
    },
    {
      "cell_type": "code",
      "source": [
        "def create_cnn3_model():\n",
        "    inputs = tf.keras.Input(shape=(x_train.shape[1], 1))  # Input shape: (sequence_length, 1)\n",
        "\n",
        "    # First Convolutional Layer\n",
        "    conv1 = tf.keras.layers.Conv1D(filters=64, kernel_size=3, activation='relu')(inputs)\n",
        "    pool1 = tf.keras.layers.MaxPooling1D(pool_size=2)(conv1)\n",
        "\n",
        "    # Second Convolutional Layer\n",
        "    conv2 = tf.keras.layers.Conv1D(filters=128, kernel_size=3, activation='relu')(pool1)\n",
        "    pool2 = tf.keras.layers.MaxPooling1D(pool_size=2)(conv2)\n",
        "\n",
        "    # Third Convolutional Layer\n",
        "    conv3 = tf.keras.layers.Conv1D(filters=256, kernel_size=3, activation='relu')(pool2)\n",
        "    pool3 = tf.keras.layers.MaxPooling1D(pool_size=2)(conv3)\n",
        "\n",
        "    # Flatten the output\n",
        "    flatten = tf.keras.layers.Flatten()(pool3)\n",
        "\n",
        "    # Dense Layer with Dropout\n",
        "    dense = tf.keras.layers.Dense(128, activation='relu')(flatten)\n",
        "    dropout = tf.keras.layers.Dropout(0.5)(dense)\n",
        "\n",
        "    # Output Layer\n",
        "    outputs = tf.keras.layers.Dense(3, activation='softmax')(dropout)\n",
        "\n",
        "    # Create the model\n",
        "    model = tf.keras.Model(inputs=inputs, outputs=outputs)\n",
        "    return model\n",
        "\n",
        "# Create the CNN3 model\n",
        "cnn3_model = create_cnn3_model()\n",
        "\n",
        "# Compile the model\n",
        "cnn3_model.compile(\n",
        "    optimizer='adam',\n",
        "    loss='categorical_crossentropy',\n",
        "    metrics=['accuracy']\n",
        ")\n",
        "\n",
        "# Print model summary\n",
        "cnn3_model.summary()"
      ],
      "metadata": {
        "trusted": true,
        "execution": {
          "iopub.status.busy": "2025-01-09T19:54:41.800691Z",
          "iopub.execute_input": "2025-01-09T19:54:41.801059Z",
          "iopub.status.idle": "2025-01-09T19:54:41.864387Z",
          "shell.execute_reply.started": "2025-01-09T19:54:41.801024Z",
          "shell.execute_reply": "2025-01-09T19:54:41.863728Z"
        },
        "id": "awM4c4dRMJbU"
      },
      "outputs": [],
      "execution_count": null
    },
    {
      "cell_type": "code",
      "source": [
        "history4 = cnn3_model.fit(x_train, y_train, epochs = 10, validation_split=0.1)\n",
        "loss, acc = cnn3_model.evaluate(x_test, y_test)"
      ],
      "metadata": {
        "trusted": true,
        "execution": {
          "iopub.status.busy": "2025-01-09T19:54:41.864985Z",
          "iopub.execute_input": "2025-01-09T19:54:41.86518Z",
          "iopub.status.idle": "2025-01-09T19:54:57.511385Z",
          "shell.execute_reply.started": "2025-01-09T19:54:41.865162Z",
          "shell.execute_reply": "2025-01-09T19:54:57.510742Z"
        },
        "id": "Sr-yGhI0MJbx"
      },
      "outputs": [],
      "execution_count": null
    },
    {
      "cell_type": "code",
      "source": [
        "test_loss, test_acc = cnn3_model.evaluate(x_test, y_test)\n",
        "print(f'Test accuracy: {test_acc:.4f}')"
      ],
      "metadata": {
        "trusted": true,
        "execution": {
          "iopub.status.busy": "2025-01-09T19:54:57.512278Z",
          "iopub.execute_input": "2025-01-09T19:54:57.512494Z",
          "iopub.status.idle": "2025-01-09T19:54:57.614889Z",
          "shell.execute_reply.started": "2025-01-09T19:54:57.512474Z",
          "shell.execute_reply": "2025-01-09T19:54:57.614268Z"
        },
        "id": "VOe-uBRGMJby"
      },
      "outputs": [],
      "execution_count": null
    },
    {
      "cell_type": "code",
      "source": [
        "plt.style.use(\"fivethirtyeight\")\n",
        "plt.figure(figsize = (8,4))\n",
        "plt.subplot(1, 2, 1)\n",
        "plt.plot(history4.history['loss'])\n",
        "plt.plot(history4.history['val_loss'])\n",
        "plt.title(\"Model Loss\",fontsize=15)\n",
        "plt.ylabel('Loss')\n",
        "plt.xlabel('Epochs')\n",
        "plt.legend(['train loss', 'validation loss'], loc ='best')\n",
        "\n",
        "plt.subplot(1, 2, 2)\n",
        "plt.plot(history4.history['accuracy'])\n",
        "plt.plot(history4.history['val_accuracy'])\n",
        "plt.title(\"Model Accuracy\",fontsize=15)\n",
        "plt.ylabel('Accuracy')\n",
        "plt.xlabel('Epochs')\n",
        "plt.legend(['training accuracy', 'validation accuracy'], loc ='best')\n",
        "plt.show()"
      ],
      "metadata": {
        "trusted": true,
        "execution": {
          "iopub.status.busy": "2025-01-09T19:54:57.615618Z",
          "iopub.execute_input": "2025-01-09T19:54:57.615858Z",
          "iopub.status.idle": "2025-01-09T19:54:58.031312Z",
          "shell.execute_reply.started": "2025-01-09T19:54:57.615825Z",
          "shell.execute_reply": "2025-01-09T19:54:58.030484Z"
        },
        "id": "0Mv_aMqdMJby"
      },
      "outputs": [],
      "execution_count": null
    },
    {
      "cell_type": "markdown",
      "source": [
        "**ANN Model**"
      ],
      "metadata": {
        "id": "Jk7ddWOFMJbz"
      }
    },
    {
      "cell_type": "code",
      "source": [
        "def create_ann_model():\n",
        "    inputs = tf.keras.Input(shape=(x_train.shape[1],))  # Input shape: (sequence_length,)\n",
        "\n",
        "    # First Dense Layer\n",
        "    dense1 = tf.keras.layers.Dense(128, activation='relu')(inputs)\n",
        "\n",
        "    # Second Dense Layer\n",
        "    dense2 = tf.keras.layers.Dense(64, activation='relu')(dense1)\n",
        "\n",
        "    # Output Layer\n",
        "    outputs = tf.keras.layers.Dense(3, activation='softmax')(dense2)\n",
        "\n",
        "    # Create the model\n",
        "    model = tf.keras.Model(inputs=inputs, outputs=outputs)\n",
        "    return model\n",
        "\n",
        "# Create the ANN model\n",
        "ann_model = create_ann_model()\n",
        "\n",
        "# Compile the model\n",
        "ann_model.compile(\n",
        "    optimizer='adam',\n",
        "    loss='categorical_crossentropy',\n",
        "    metrics=['accuracy']\n",
        ")\n",
        "\n",
        "# Print model summary\n",
        "ann_model.summary()"
      ],
      "metadata": {
        "trusted": true,
        "execution": {
          "iopub.status.busy": "2025-01-09T19:54:58.032167Z",
          "iopub.execute_input": "2025-01-09T19:54:58.03248Z",
          "iopub.status.idle": "2025-01-09T19:54:58.071505Z",
          "shell.execute_reply.started": "2025-01-09T19:54:58.032448Z",
          "shell.execute_reply": "2025-01-09T19:54:58.07087Z"
        },
        "id": "xSLd4fkQMJbz"
      },
      "outputs": [],
      "execution_count": null
    },
    {
      "cell_type": "code",
      "source": [
        "history5 = ann_model.fit(x_train, y_train, epochs = 10, validation_split=0.1)\n",
        "loss, acc = ann_model.evaluate(x_test, y_test)"
      ],
      "metadata": {
        "trusted": true,
        "execution": {
          "iopub.status.busy": "2025-01-09T19:54:58.072255Z",
          "iopub.execute_input": "2025-01-09T19:54:58.072496Z",
          "iopub.status.idle": "2025-01-09T19:55:02.257427Z",
          "shell.execute_reply.started": "2025-01-09T19:54:58.072476Z",
          "shell.execute_reply": "2025-01-09T19:55:02.256748Z"
        },
        "id": "jY_esobwMJb0"
      },
      "outputs": [],
      "execution_count": null
    },
    {
      "cell_type": "code",
      "source": [
        "test_loss, test_acc = ann_model.evaluate(x_test, y_test)\n",
        "print(f'Test accuracy: {test_acc:.4f}')"
      ],
      "metadata": {
        "trusted": true,
        "execution": {
          "iopub.status.busy": "2025-01-09T19:55:02.25843Z",
          "iopub.execute_input": "2025-01-09T19:55:02.258763Z",
          "iopub.status.idle": "2025-01-09T19:55:02.343872Z",
          "shell.execute_reply.started": "2025-01-09T19:55:02.258731Z",
          "shell.execute_reply": "2025-01-09T19:55:02.343252Z"
        },
        "id": "_N2HNgkUMJb0"
      },
      "outputs": [],
      "execution_count": null
    },
    {
      "cell_type": "code",
      "source": [
        "plt.style.use(\"fivethirtyeight\")\n",
        "plt.figure(figsize = (8,4))\n",
        "plt.subplot(1, 2, 1)\n",
        "plt.plot(history5.history['loss'])\n",
        "plt.plot(history5.history['val_loss'])\n",
        "plt.title(\"Model Loss\",fontsize=15)\n",
        "plt.ylabel('Loss')\n",
        "plt.xlabel('Epochs')\n",
        "plt.legend(['train loss', 'validation loss'], loc ='best')\n",
        "\n",
        "plt.subplot(1, 2, 2)\n",
        "plt.plot(history5.history['accuracy'])\n",
        "plt.plot(history5.history['val_accuracy'])\n",
        "plt.title(\"Model Accuracy\",fontsize=15)\n",
        "plt.ylabel('Accuracy')\n",
        "plt.xlabel('Epochs')\n",
        "plt.legend(['training accuracy', 'validation accuracy'], loc ='best')\n",
        "plt.show()"
      ],
      "metadata": {
        "trusted": true,
        "execution": {
          "iopub.status.busy": "2025-01-09T19:55:02.344673Z",
          "iopub.execute_input": "2025-01-09T19:55:02.344991Z",
          "iopub.status.idle": "2025-01-09T19:55:02.688146Z",
          "shell.execute_reply.started": "2025-01-09T19:55:02.344944Z",
          "shell.execute_reply": "2025-01-09T19:55:02.687342Z"
        },
        "id": "D-Q9-BjoMJb1"
      },
      "outputs": [],
      "execution_count": null
    },
    {
      "cell_type": "code",
      "source": [
        "histories = {\n",
        "    \"GRU\": history1,\n",
        "    \"CNN1\": history2,\n",
        "    \"CNN2\": history3,\n",
        "    \"CNN3\": history4,\n",
        "    \"ANN\": history5\n",
        "}"
      ],
      "metadata": {
        "trusted": true,
        "execution": {
          "iopub.status.busy": "2025-01-09T19:55:02.688998Z",
          "iopub.execute_input": "2025-01-09T19:55:02.689295Z",
          "iopub.status.idle": "2025-01-09T19:55:02.693087Z",
          "shell.execute_reply.started": "2025-01-09T19:55:02.689265Z",
          "shell.execute_reply": "2025-01-09T19:55:02.692313Z"
        },
        "id": "_aGV9PKwMJb1"
      },
      "outputs": [],
      "execution_count": null
    },
    {
      "cell_type": "markdown",
      "source": [
        "**Training and Validation Accuracy for each Models**"
      ],
      "metadata": {
        "id": "SLbZoqF1MJb2"
      }
    },
    {
      "cell_type": "code",
      "source": [
        "plt.figure(figsize=(14, 10))\n",
        "for i, (name, history) in enumerate(histories.items()):\n",
        "    plt.subplot(2, 3, i + 1)\n",
        "    plt.plot(history.history['accuracy'], label='Training Accuracy')\n",
        "    plt.plot(history.history['val_accuracy'], label='Validation Accuracy')\n",
        "    plt.title(f'{name} Accuracy')\n",
        "    plt.xlabel('Epoch')\n",
        "    plt.ylabel('Accuracy')\n",
        "    plt.legend()\n",
        "\n",
        "plt.tight_layout()\n",
        "plt.show()\n"
      ],
      "metadata": {
        "trusted": true,
        "execution": {
          "iopub.status.busy": "2025-01-09T19:55:02.693993Z",
          "iopub.execute_input": "2025-01-09T19:55:02.694286Z",
          "iopub.status.idle": "2025-01-09T19:55:03.661872Z",
          "shell.execute_reply.started": "2025-01-09T19:55:02.694246Z",
          "shell.execute_reply": "2025-01-09T19:55:03.660957Z"
        },
        "id": "jfMEJqe2MJb2"
      },
      "outputs": [],
      "execution_count": null
    },
    {
      "cell_type": "markdown",
      "source": [
        "**Training and Validation loss for each Model**"
      ],
      "metadata": {
        "id": "7fLWzxoSMJb2"
      }
    },
    {
      "cell_type": "code",
      "source": [
        "plt.figure(figsize=(14, 10))\n",
        "for i, (name, history) in enumerate(histories.items()):\n",
        "    plt.subplot(2, 3, i + 1)\n",
        "    plt.plot(history.history['loss'], label='Training Loss')\n",
        "    plt.plot(history.history['val_loss'], label='Validation Loss')\n",
        "    plt.title(f'{name} Loss')\n",
        "    plt.xlabel('Epoch')\n",
        "    plt.ylabel('Loss')\n",
        "    plt.legend()\n",
        "\n",
        "plt.tight_layout()\n",
        "plt.show()"
      ],
      "metadata": {
        "trusted": true,
        "execution": {
          "iopub.status.busy": "2025-01-09T19:55:03.662755Z",
          "iopub.execute_input": "2025-01-09T19:55:03.663023Z",
          "iopub.status.idle": "2025-01-09T19:55:04.592748Z",
          "shell.execute_reply.started": "2025-01-09T19:55:03.662992Z",
          "shell.execute_reply": "2025-01-09T19:55:04.591912Z"
        },
        "id": "M7hbtPbYMJb3"
      },
      "outputs": [],
      "execution_count": null
    },
    {
      "cell_type": "markdown",
      "source": [
        "**Test Accuracy Comparisons**"
      ],
      "metadata": {
        "id": "SO3VFvVqMJb3"
      }
    },
    {
      "cell_type": "code",
      "source": [
        "test_accuracies = {}\n",
        "for name, history in histories.items():\n",
        "    test_accuracies[name] = max(history.history['val_accuracy'])\n",
        "\n",
        "plt.figure(figsize=(4, 4))\n",
        "bars = plt.bar(test_accuracies.keys(), test_accuracies.values(), color=['blue', 'orange', 'green', 'red', 'purple'])\n",
        "for bar in bars:\n",
        "    height = bar.get_height()\n",
        "    plt.text(bar.get_x() + bar.get_width() / 2, height, f'{height:.4f}',\n",
        "             ha='center', va='bottom', fontsize=10)\n",
        "plt.title('Test Accuracy Comparison')\n",
        "plt.xlabel('Model')\n",
        "plt.ylabel('Accuracy')\n",
        "plt.ylim(0, 1)\n",
        "plt.show()"
      ],
      "metadata": {
        "trusted": true,
        "execution": {
          "iopub.status.busy": "2025-01-09T19:55:04.593681Z",
          "iopub.execute_input": "2025-01-09T19:55:04.594064Z",
          "iopub.status.idle": "2025-01-09T19:55:05.128305Z",
          "shell.execute_reply.started": "2025-01-09T19:55:04.594027Z",
          "shell.execute_reply": "2025-01-09T19:55:05.127371Z"
        },
        "id": "APf0191PMJb4"
      },
      "outputs": [],
      "execution_count": null
    },
    {
      "cell_type": "code",
      "source": [
        "models = {\n",
        "    \"GRU\": (lstmmodel, history1),\n",
        "    \"CNN1\": (cnn1_model, history2),\n",
        "    \"CNN2\": (cnn2_model, history3),\n",
        "    \"CNN3\": (cnn3_model, history4),\n",
        "    \"ANN\": (ann_model, history5)\n",
        "}"
      ],
      "metadata": {
        "trusted": true,
        "execution": {
          "iopub.status.busy": "2025-01-09T19:55:05.129198Z",
          "iopub.execute_input": "2025-01-09T19:55:05.129503Z",
          "iopub.status.idle": "2025-01-09T19:55:05.133609Z",
          "shell.execute_reply.started": "2025-01-09T19:55:05.129472Z",
          "shell.execute_reply": "2025-01-09T19:55:05.132817Z"
        },
        "id": "s4XNXNXMMJb4"
      },
      "outputs": [],
      "execution_count": null
    },
    {
      "cell_type": "code",
      "source": [
        "test_accuracies = {}\n",
        "for name, (model, _) in models.items():\n",
        "    if \"CNN\" in name or \"GRU\" in name:\n",
        "        _, test_acc = model.evaluate(x_test, y_test, verbose=0)\n",
        "    else:\n",
        "        _, test_acc = model.evaluate(x_test, y_test, verbose=0)\n",
        "    test_accuracies[name] = test_acc"
      ],
      "metadata": {
        "trusted": true,
        "execution": {
          "iopub.status.busy": "2025-01-09T19:55:05.134429Z",
          "iopub.execute_input": "2025-01-09T19:55:05.134711Z",
          "iopub.status.idle": "2025-01-09T19:55:06.338368Z",
          "shell.execute_reply.started": "2025-01-09T19:55:05.134682Z",
          "shell.execute_reply": "2025-01-09T19:55:06.337439Z"
        },
        "id": "EXpywLPiMJb4"
      },
      "outputs": [],
      "execution_count": null
    },
    {
      "cell_type": "code",
      "source": [
        "plt.figure(figsize=(4, 4))\n",
        "bars = plt.bar(test_accuracies.keys(), test_accuracies.values(), color=['blue', 'orange', 'green', 'red', 'purple'])\n",
        "for bar in bars:\n",
        "    height = bar.get_height()\n",
        "    plt.text(bar.get_x() + bar.get_width() / 2, height, f'{height:.4f}', ha='center', va='bottom', fontsize=10)\n",
        "plt.title('Test Accuracy Comparison')\n",
        "plt.xlabel('Model')\n",
        "plt.ylabel('Accuracy')\n",
        "plt.ylim(0, 1)\n",
        "plt.show()"
      ],
      "metadata": {
        "trusted": true,
        "execution": {
          "iopub.status.busy": "2025-01-09T19:55:06.339507Z",
          "iopub.execute_input": "2025-01-09T19:55:06.339784Z",
          "iopub.status.idle": "2025-01-09T19:55:06.508417Z",
          "shell.execute_reply.started": "2025-01-09T19:55:06.33976Z",
          "shell.execute_reply": "2025-01-09T19:55:06.507592Z"
        },
        "id": "wz54-CK_MJb5"
      },
      "outputs": [],
      "execution_count": null
    },
    {
      "cell_type": "code",
      "source": [
        "from sklearn.metrics import confusion_matrix, classification_report, precision_score, recall_score, f1_score"
      ],
      "metadata": {
        "trusted": true,
        "execution": {
          "iopub.status.busy": "2025-01-09T20:00:52.726527Z",
          "iopub.execute_input": "2025-01-09T20:00:52.726823Z",
          "iopub.status.idle": "2025-01-09T20:00:52.730678Z",
          "shell.execute_reply.started": "2025-01-09T20:00:52.7268Z",
          "shell.execute_reply": "2025-01-09T20:00:52.729762Z"
        },
        "id": "tb63jHLOMJb5"
      },
      "outputs": [],
      "execution_count": null
    },
    {
      "cell_type": "code",
      "source": [
        "precision_scores = {}\n",
        "recall_scores = {}\n",
        "f1_scores = {}\n",
        "\n",
        "for name, (model, _) in models.items():\n",
        "    if \"CNN\" in name or \"GRU\" in name:\n",
        "        y_pred = model.predict(x_test)\n",
        "    else:\n",
        "        y_pred = model.predict(x_test)\n",
        "    y_pred_classes = np.argmax(y_pred, axis=1)\n",
        "    y_true_classes = np.argmax(y_test, axis=1)\n",
        "\n",
        "    precision_scores[name] = precision_score(y_true_classes, y_pred_classes, average='weighted')\n",
        "    recall_scores[name] = recall_score(y_true_classes, y_pred_classes, average='weighted')\n",
        "    f1_scores[name] = f1_score(y_true_classes, y_pred_classes, average='weighted')\n",
        "\n",
        "metrics = {\n",
        "    'Precision': precision_scores,\n",
        "    'Recall': recall_scores,\n",
        "    'F1-Score': f1_scores\n",
        "}"
      ],
      "metadata": {
        "trusted": true,
        "execution": {
          "iopub.status.busy": "2025-01-09T20:00:55.911413Z",
          "iopub.execute_input": "2025-01-09T20:00:55.911722Z",
          "iopub.status.idle": "2025-01-09T20:00:58.562578Z",
          "shell.execute_reply.started": "2025-01-09T20:00:55.911694Z",
          "shell.execute_reply": "2025-01-09T20:00:58.561922Z"
        },
        "id": "WDDSMEqHMJb6"
      },
      "outputs": [],
      "execution_count": null
    },
    {
      "cell_type": "markdown",
      "source": [
        "**Precision, Recall and F1-score Comparison**"
      ],
      "metadata": {
        "id": "SzlarMmpMJb6"
      }
    },
    {
      "cell_type": "code",
      "source": [
        "plt.figure(figsize=(12,4))\n",
        "for i, (metric_name, metric_values) in enumerate(metrics.items()):\n",
        "    plt.subplot(1, 3, i + 1)\n",
        "    bars = plt.bar(metric_values.keys(), metric_values.values(), color=['blue', 'orange', 'green', 'red', 'purple'])\n",
        "    for bar in bars:\n",
        "        height = bar.get_height()\n",
        "        plt.text(bar.get_x() + bar.get_width() / 2, height, f'{height:.4f}', ha='center', va='bottom', fontsize=10)\n",
        "    plt.title(f'{metric_name} Comparison')\n",
        "    plt.xlabel('Model')\n",
        "    plt.ylabel(metric_name)\n",
        "    plt.ylim(0, 1)\n",
        "plt.tight_layout()\n",
        "plt.show()"
      ],
      "metadata": {
        "trusted": true,
        "execution": {
          "iopub.status.busy": "2025-01-09T20:01:29.581207Z",
          "iopub.execute_input": "2025-01-09T20:01:29.581512Z",
          "iopub.status.idle": "2025-01-09T20:01:30.139585Z",
          "shell.execute_reply.started": "2025-01-09T20:01:29.581489Z",
          "shell.execute_reply": "2025-01-09T20:01:30.138765Z"
        },
        "id": "Md4rk96dMJb6"
      },
      "outputs": [],
      "execution_count": null
    },
    {
      "cell_type": "markdown",
      "source": [
        "**Confusion Matrix Comparison**"
      ],
      "metadata": {
        "id": "_UYi1KPFMJb7"
      }
    },
    {
      "cell_type": "code",
      "source": [
        "for name, (model, _) in models.items():\n",
        "    if \"CNN\" in name or \"GRU\" in name:\n",
        "        y_pred = model.predict(x_test)\n",
        "    else:\n",
        "        y_pred = model.predict(x_test)\n",
        "    y_pred_classes = np.argmax(y_pred, axis=1)\n",
        "    y_true_classes = np.argmax(y_test, axis=1)\n",
        "\n",
        "    cm = confusion_matrix(y_true_classes, y_pred_classes)\n",
        "    plt.figure(figsize=(4,4))\n",
        "    sns.heatmap(cm, annot=True, fmt='d', cmap='Blues', cbar=False)\n",
        "    plt.title(f'Confusion Matrix - {name}')\n",
        "    plt.xlabel('Predicted')\n",
        "    plt.ylabel('True')\n",
        "    plt.show()"
      ],
      "metadata": {
        "trusted": true,
        "execution": {
          "iopub.status.busy": "2025-01-09T20:03:47.048378Z",
          "iopub.execute_input": "2025-01-09T20:03:47.048673Z",
          "iopub.status.idle": "2025-01-09T20:03:48.855164Z",
          "shell.execute_reply.started": "2025-01-09T20:03:47.048649Z",
          "shell.execute_reply": "2025-01-09T20:03:48.85439Z"
        },
        "id": "u6y5l_IzMJb7"
      },
      "outputs": [],
      "execution_count": null
    },
    {
      "cell_type": "code",
      "source": [
        "model.save('lstmmodel.h5')\n",
        "model.save('cnn1_model.h5')\n",
        "model.save('cnn2_model.h5')\n",
        "model.save('cnn3_model.h5')\n",
        "model.save('ann_model.h5')"
      ],
      "metadata": {
        "trusted": true,
        "execution": {
          "iopub.status.busy": "2025-01-09T20:05:22.193416Z",
          "iopub.execute_input": "2025-01-09T20:05:22.193733Z",
          "iopub.status.idle": "2025-01-09T20:05:22.304833Z",
          "shell.execute_reply.started": "2025-01-09T20:05:22.193711Z",
          "shell.execute_reply": "2025-01-09T20:05:22.304066Z"
        },
        "id": "KSsAIpXbMJb8"
      },
      "outputs": [],
      "execution_count": null
    },
    {
      "cell_type": "code",
      "source": [],
      "metadata": {
        "trusted": true,
        "id": "DCzzdt3VMJb8"
      },
      "outputs": [],
      "execution_count": null
    }
  ]
}